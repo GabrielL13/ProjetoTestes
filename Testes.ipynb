{
 "cells": [
  {
   "cell_type": "code",
   "execution_count": 1,
   "id": "030a36ba",
   "metadata": {},
   "outputs": [],
   "source": [
    "from Sistema import Sistema\n",
    "from datetime import datetime"
   ]
  },
  {
   "cell_type": "code",
   "execution_count": 2,
   "metadata": {},
   "outputs": [],
   "source": [
    "sistema = Sistema()"
   ]
  },
  {
   "cell_type": "code",
   "execution_count": 3,
   "metadata": {},
   "outputs": [
    {
     "data": {
      "text/plain": [
       "True"
      ]
     },
     "execution_count": 3,
     "metadata": {},
     "output_type": "execute_result"
    }
   ],
   "source": [
    "sistema.fazer_login(\"Dentista\",\"78900\",'senha123')"
   ]
  },
  {
   "cell_type": "code",
   "execution_count": 5,
   "metadata": {},
   "outputs": [
    {
     "ename": "AttributeError",
     "evalue": "'Dentista' object has no attribute 'cancelar_consulta'",
     "output_type": "error",
     "traceback": [
      "\u001b[0;31m---------------------------------------------------------------------------\u001b[0m",
      "\u001b[0;31mAttributeError\u001b[0m                            Traceback (most recent call last)",
      "\u001b[1;32m/home/VeronicaLopes/Documentos/ProjetoTestes/Testes.ipynb Célula 4\u001b[0m line \u001b[0;36m1\n\u001b[0;32m----> <a href='vscode-notebook-cell:/home/VeronicaLopes/Documentos/ProjetoTestes/Testes.ipynb#W3sZmlsZQ%3D%3D?line=0'>1</a>\u001b[0m sistema\u001b[39m.\u001b[39;49mcancelar_consulta(\u001b[39m\"\u001b[39;49m\u001b[39m123456\u001b[39;49m\u001b[39m\"\u001b[39;49m)\n",
      "File \u001b[0;32m~/Documentos/ProjetoTestes/Sistema.py:284\u001b[0m, in \u001b[0;36mSistema.cancelar_consulta\u001b[0;34m(self, cpf)\u001b[0m\n\u001b[1;32m    282\u001b[0m \u001b[39mdef\u001b[39;00m \u001b[39mcancelar_consulta\u001b[39m(\u001b[39mself\u001b[39m,cpf):\n\u001b[1;32m    283\u001b[0m     \u001b[39mif\u001b[39;00m \u001b[39mself\u001b[39m\u001b[39m.\u001b[39mlogin \u001b[39mand\u001b[39;00m \u001b[39misinstance\u001b[39m(\u001b[39mself\u001b[39m\u001b[39m.\u001b[39muser,Dentista) :\n\u001b[0;32m--> 284\u001b[0m         resposta \u001b[39m=\u001b[39m \u001b[39mself\u001b[39;49m\u001b[39m.\u001b[39;49muser\u001b[39m.\u001b[39;49mcancelar_consulta(cpf)\n\u001b[1;32m    285\u001b[0m         \u001b[39mif\u001b[39;00m resposta:\n\u001b[1;32m    286\u001b[0m             \u001b[39mself\u001b[39m\u001b[39m.\u001b[39mnotificar(cpf,\u001b[39m\"\u001b[39m\u001b[39mConsulta Cancelada, solicite um novo agendamento.\u001b[39m\u001b[39m\"\u001b[39m)\n",
      "\u001b[0;31mAttributeError\u001b[0m: 'Dentista' object has no attribute 'cancelar_consulta'"
     ]
    }
   ],
   "source": [
    "sistema.cancelar_consulta(\"123456\")"
   ]
  },
  {
   "cell_type": "code",
   "execution_count": 5,
   "metadata": {},
   "outputs": [
    {
     "data": {
      "text/plain": [
       "True"
      ]
     },
     "execution_count": 5,
     "metadata": {},
     "output_type": "execute_result"
    }
   ],
   "source": [
    "sistema.fazer_login(\"Paciente\",\"12345678900\",\"senha123\")"
   ]
  },
  {
   "cell_type": "code",
   "execution_count": 6,
   "metadata": {},
   "outputs": [
    {
     "name": "stdout",
     "output_type": "stream",
     "text": [
      "{\"texto\": \"Teste avaliacao\", \"nota\": \"10\", \"data\": \"2023-11-24 21:36:15.500832\"}\n"
     ]
    },
    {
     "data": {
      "text/plain": [
       "True"
      ]
     },
     "execution_count": 6,
     "metadata": {},
     "output_type": "execute_result"
    }
   ],
   "source": [
    "sistema.avaliar_atendimento(\"10\",\"Teste avaliacao\")"
   ]
  },
  {
   "cell_type": "code",
   "execution_count": 9,
   "metadata": {},
   "outputs": [
    {
     "name": "stdout",
     "output_type": "stream",
     "text": [
      "Paciente não existe.\n"
     ]
    },
    {
     "data": {
      "text/plain": [
       "False"
      ]
     },
     "execution_count": 9,
     "metadata": {},
     "output_type": "execute_result"
    }
   ],
   "source": [
    "sistema.visualizar_pagamento()"
   ]
  },
  {
   "cell_type": "code",
   "execution_count": 8,
   "metadata": {},
   "outputs": [
    {
     "name": "stdout",
     "output_type": "stream",
     "text": [
      "Pagamento realizado com sucesso.\n"
     ]
    },
    {
     "data": {
      "text/plain": [
       "True"
      ]
     },
     "execution_count": 8,
     "metadata": {},
     "output_type": "execute_result"
    }
   ],
   "source": [
    "sistema.realizar_pagamento(1000,\"debito\")"
   ]
  },
  {
   "cell_type": "code",
   "execution_count": 6,
   "metadata": {},
   "outputs": [
    {
     "data": {
      "text/plain": [
       "True"
      ]
     },
     "execution_count": 6,
     "metadata": {},
     "output_type": "execute_result"
    }
   ],
   "source": [
    "data = str(datetime.now())\n",
    "sistema.anexa_pagamento(\"12345678900\",\"Debito\",\"1000\",\"Real\",data)"
   ]
  },
  {
   "cell_type": "code",
   "execution_count": 21,
   "metadata": {},
   "outputs": [
    {
     "name": "stdout",
     "output_type": "stream",
     "text": [
      "Ação não é permitida.\n"
     ]
    },
    {
     "data": {
      "text/plain": [
       "False"
      ]
     },
     "execution_count": 21,
     "metadata": {},
     "output_type": "execute_result"
    }
   ],
   "source": [
    "sistema.solicitar_consulta()"
   ]
  },
  {
   "cell_type": "code",
   "execution_count": 4,
   "metadata": {},
   "outputs": [
    {
     "name": "stdout",
     "output_type": "stream",
     "text": [
      "{'12345678900': {'cpf': '12345678900', 'data': '2023-11-24T19:24:44.338585+00:00', 'nome': 'João'}}\n"
     ]
    },
    {
     "data": {
      "text/plain": [
       "True"
      ]
     },
     "execution_count": 4,
     "metadata": {},
     "output_type": "execute_result"
    }
   ],
   "source": [
    "sistema.ver_solicitacoes()"
   ]
  },
  {
   "cell_type": "code",
   "execution_count": 6,
   "metadata": {},
   "outputs": [
    {
     "name": "stdout",
     "output_type": "stream",
     "text": [
      "{'12345678900': {'cpf': '12345678900', 'data': '2023-11-24T19:24:44.338585+00:00', 'nome': 'João'}}\n"
     ]
    },
    {
     "data": {
      "text/plain": [
       "True"
      ]
     },
     "execution_count": 6,
     "metadata": {},
     "output_type": "execute_result"
    }
   ],
   "source": [
    "data = datetime.now()\n",
    "sistema.agendar_consulta(data,\"12345678900\",\"Dentista\",\"78900\",\"Teste Consulta\",\"01234\")"
   ]
  },
  {
   "cell_type": "code",
   "execution_count": 7,
   "metadata": {},
   "outputs": [
    {
     "data": {
      "text/plain": [
       "True"
      ]
     },
     "execution_count": 7,
     "metadata": {},
     "output_type": "execute_result"
    }
   ],
   "source": [
    "sistema.fazer_logout()"
   ]
  },
  {
   "cell_type": "code",
   "execution_count": 9,
   "metadata": {},
   "outputs": [
    {
     "name": "stdout",
     "output_type": "stream",
     "text": [
      "Ação não é permitida.\n"
     ]
    }
   ],
   "source": [
    "resultado_criar_ficha = sistema.criar_ficha(\n",
    "        nome=\"João\",\n",
    "        senha=\"senha123\",\n",
    "        cpf=\"12345678900\",\n",
    "        telefone=\"123456789\",\n",
    "        rg=\"1234567\",\n",
    "        cartaoSus=\"987654321\",\n",
    "        rua=\"Rua A\",\n",
    "        bairro=\"Bairro B\",\n",
    "        cidade=\"Cidade C\",\n",
    "        cep=\"12345678\",\n",
    "        numero=\"10\",\n",
    "        referencia=\"Referencia\",\n",
    "        data_de_nascimento=\"01/01/1990\",\n",
    "        estado_civil=\"Solteiro\",\n",
    "        tipo_sanguineo=\"O+\",\n",
    "        nacionalidade=\"Brasileiro\",\n",
    "        sexo=\"Masculino\",\n",
    "        info_adicionais=\"Informações adicionais, se houver\"\n",
    "    )"
   ]
  },
  {
   "cell_type": "code",
   "execution_count": 10,
   "metadata": {},
   "outputs": [
    {
     "name": "stdout",
     "output_type": "stream",
     "text": [
      "Ação não é permitida.\n"
     ]
    }
   ],
   "source": [
    "resultado = sistema.criar_ficha_atendente(\n",
    "        nome=\"Fulano\",\n",
    "        senha=\"senha123\",\n",
    "        cpf=\"1234\",\n",
    "        telefone=\"123456789\",\n",
    "        rg=\"1234567\",\n",
    "        cartaoSus=\"987654321\",\n",
    "        rua=\"Rua A\",\n",
    "        bairro=\"Bairro B\",\n",
    "        cidade=\"Cidade C\",\n",
    "        cep=\"12345678\",\n",
    "        numero=\"10\",\n",
    "        referencia=\"Referencia\",\n",
    "        data_de_nascimento=\"01/01/1990\",\n",
    "        estado_civil=\"Solteiro\",\n",
    "        tipo_sanguineo=\"O+\",\n",
    "        nacionalidade=\"Brasileiro\",\n",
    "        sexo=\"Masculino\",\n",
    "        info_adicionais=\"Informações adicionais, se houver\"\n",
    "    )"
   ]
  },
  {
   "cell_type": "code",
   "execution_count": 1,
   "metadata": {},
   "outputs": [
    {
     "ename": "NameError",
     "evalue": "name 'sistema' is not defined",
     "output_type": "error",
     "traceback": [
      "\u001b[0;31m---------------------------------------------------------------------------\u001b[0m",
      "\u001b[0;31mNameError\u001b[0m                                 Traceback (most recent call last)",
      "\u001b[1;32m/home/VeronicaLopes/Documentos/ProjetoTestes/Testes.ipynb Célula 16\u001b[0m line \u001b[0;36m1\n\u001b[0;32m----> <a href='vscode-notebook-cell:/home/VeronicaLopes/Documentos/ProjetoTestes/Testes.ipynb#X21sZmlsZQ%3D%3D?line=0'>1</a>\u001b[0m resultado \u001b[39m=\u001b[39m sistema\u001b[39m.\u001b[39mcriar_ficha_dentista(\n\u001b[1;32m      <a href='vscode-notebook-cell:/home/VeronicaLopes/Documentos/ProjetoTestes/Testes.ipynb#X21sZmlsZQ%3D%3D?line=1'>2</a>\u001b[0m         crm\u001b[39m=\u001b[39m\u001b[39m\"\u001b[39m\u001b[39mCRM\u001b[39m\u001b[39m\"\u001b[39m,\n\u001b[1;32m      <a href='vscode-notebook-cell:/home/VeronicaLopes/Documentos/ProjetoTestes/Testes.ipynb#X21sZmlsZQ%3D%3D?line=2'>3</a>\u001b[0m         estado\u001b[39m=\u001b[39m\u001b[39m\"\u001b[39m\u001b[39mPB\u001b[39m\u001b[39m\"\u001b[39m,\n\u001b[1;32m      <a href='vscode-notebook-cell:/home/VeronicaLopes/Documentos/ProjetoTestes/Testes.ipynb#X21sZmlsZQ%3D%3D?line=3'>4</a>\u001b[0m         nome\u001b[39m=\u001b[39m\u001b[39m\"\u001b[39m\u001b[39mDentista\u001b[39m\u001b[39m\"\u001b[39m,\n\u001b[1;32m      <a href='vscode-notebook-cell:/home/VeronicaLopes/Documentos/ProjetoTestes/Testes.ipynb#X21sZmlsZQ%3D%3D?line=4'>5</a>\u001b[0m         senha\u001b[39m=\u001b[39m\u001b[39m\"\u001b[39m\u001b[39msenha123\u001b[39m\u001b[39m\"\u001b[39m,\n\u001b[1;32m      <a href='vscode-notebook-cell:/home/VeronicaLopes/Documentos/ProjetoTestes/Testes.ipynb#X21sZmlsZQ%3D%3D?line=5'>6</a>\u001b[0m         cpf\u001b[39m=\u001b[39m\u001b[39m\"\u001b[39m\u001b[39m78900\u001b[39m\u001b[39m\"\u001b[39m,\n\u001b[1;32m      <a href='vscode-notebook-cell:/home/VeronicaLopes/Documentos/ProjetoTestes/Testes.ipynb#X21sZmlsZQ%3D%3D?line=6'>7</a>\u001b[0m         telefone\u001b[39m=\u001b[39m\u001b[39m\"\u001b[39m\u001b[39m123456789\u001b[39m\u001b[39m\"\u001b[39m,\n\u001b[1;32m      <a href='vscode-notebook-cell:/home/VeronicaLopes/Documentos/ProjetoTestes/Testes.ipynb#X21sZmlsZQ%3D%3D?line=7'>8</a>\u001b[0m         rg\u001b[39m=\u001b[39m\u001b[39m\"\u001b[39m\u001b[39m1234567\u001b[39m\u001b[39m\"\u001b[39m,\n\u001b[1;32m      <a href='vscode-notebook-cell:/home/VeronicaLopes/Documentos/ProjetoTestes/Testes.ipynb#X21sZmlsZQ%3D%3D?line=8'>9</a>\u001b[0m         cartaoSus\u001b[39m=\u001b[39m\u001b[39m\"\u001b[39m\u001b[39m987654321\u001b[39m\u001b[39m\"\u001b[39m,\n\u001b[1;32m     <a href='vscode-notebook-cell:/home/VeronicaLopes/Documentos/ProjetoTestes/Testes.ipynb#X21sZmlsZQ%3D%3D?line=9'>10</a>\u001b[0m         rua\u001b[39m=\u001b[39m\u001b[39m\"\u001b[39m\u001b[39mRua A\u001b[39m\u001b[39m\"\u001b[39m,\n\u001b[1;32m     <a href='vscode-notebook-cell:/home/VeronicaLopes/Documentos/ProjetoTestes/Testes.ipynb#X21sZmlsZQ%3D%3D?line=10'>11</a>\u001b[0m         bairro\u001b[39m=\u001b[39m\u001b[39m\"\u001b[39m\u001b[39mBairro B\u001b[39m\u001b[39m\"\u001b[39m,\n\u001b[1;32m     <a href='vscode-notebook-cell:/home/VeronicaLopes/Documentos/ProjetoTestes/Testes.ipynb#X21sZmlsZQ%3D%3D?line=11'>12</a>\u001b[0m         cidade\u001b[39m=\u001b[39m\u001b[39m\"\u001b[39m\u001b[39mCidade C\u001b[39m\u001b[39m\"\u001b[39m,\n\u001b[1;32m     <a href='vscode-notebook-cell:/home/VeronicaLopes/Documentos/ProjetoTestes/Testes.ipynb#X21sZmlsZQ%3D%3D?line=12'>13</a>\u001b[0m         cep\u001b[39m=\u001b[39m\u001b[39m\"\u001b[39m\u001b[39m12345678\u001b[39m\u001b[39m\"\u001b[39m,\n\u001b[1;32m     <a href='vscode-notebook-cell:/home/VeronicaLopes/Documentos/ProjetoTestes/Testes.ipynb#X21sZmlsZQ%3D%3D?line=13'>14</a>\u001b[0m         numero\u001b[39m=\u001b[39m\u001b[39m\"\u001b[39m\u001b[39m10\u001b[39m\u001b[39m\"\u001b[39m,\n\u001b[1;32m     <a href='vscode-notebook-cell:/home/VeronicaLopes/Documentos/ProjetoTestes/Testes.ipynb#X21sZmlsZQ%3D%3D?line=14'>15</a>\u001b[0m         referencia\u001b[39m=\u001b[39m\u001b[39m\"\u001b[39m\u001b[39mReferencia\u001b[39m\u001b[39m\"\u001b[39m,\n\u001b[1;32m     <a href='vscode-notebook-cell:/home/VeronicaLopes/Documentos/ProjetoTestes/Testes.ipynb#X21sZmlsZQ%3D%3D?line=15'>16</a>\u001b[0m         data_de_nascimento\u001b[39m=\u001b[39m\u001b[39m\"\u001b[39m\u001b[39m01/01/1990\u001b[39m\u001b[39m\"\u001b[39m,\n\u001b[1;32m     <a href='vscode-notebook-cell:/home/VeronicaLopes/Documentos/ProjetoTestes/Testes.ipynb#X21sZmlsZQ%3D%3D?line=16'>17</a>\u001b[0m         estado_civil\u001b[39m=\u001b[39m\u001b[39m\"\u001b[39m\u001b[39mSolteiro\u001b[39m\u001b[39m\"\u001b[39m,\n\u001b[1;32m     <a href='vscode-notebook-cell:/home/VeronicaLopes/Documentos/ProjetoTestes/Testes.ipynb#X21sZmlsZQ%3D%3D?line=17'>18</a>\u001b[0m         tipo_sanguineo\u001b[39m=\u001b[39m\u001b[39m\"\u001b[39m\u001b[39mO+\u001b[39m\u001b[39m\"\u001b[39m,\n\u001b[1;32m     <a href='vscode-notebook-cell:/home/VeronicaLopes/Documentos/ProjetoTestes/Testes.ipynb#X21sZmlsZQ%3D%3D?line=18'>19</a>\u001b[0m         nacionalidade\u001b[39m=\u001b[39m\u001b[39m\"\u001b[39m\u001b[39mBrasileiro\u001b[39m\u001b[39m\"\u001b[39m,\n\u001b[1;32m     <a href='vscode-notebook-cell:/home/VeronicaLopes/Documentos/ProjetoTestes/Testes.ipynb#X21sZmlsZQ%3D%3D?line=19'>20</a>\u001b[0m         sexo\u001b[39m=\u001b[39m\u001b[39m\"\u001b[39m\u001b[39mMasculino\u001b[39m\u001b[39m\"\u001b[39m,\n\u001b[1;32m     <a href='vscode-notebook-cell:/home/VeronicaLopes/Documentos/ProjetoTestes/Testes.ipynb#X21sZmlsZQ%3D%3D?line=20'>21</a>\u001b[0m         info_adicionais\u001b[39m=\u001b[39m\u001b[39m\"\u001b[39m\u001b[39mInformações adicionais, se houver\u001b[39m\u001b[39m\"\u001b[39m\n\u001b[1;32m     <a href='vscode-notebook-cell:/home/VeronicaLopes/Documentos/ProjetoTestes/Testes.ipynb#X21sZmlsZQ%3D%3D?line=21'>22</a>\u001b[0m     )\n",
      "\u001b[0;31mNameError\u001b[0m: name 'sistema' is not defined"
     ]
    }
   ],
   "source": [
    "resultado = sistema.criar_ficha_dentista(\n",
    "        crm=\"CRM\",\n",
    "        estado=\"PB\",\n",
    "        nome=\"Dentista\",\n",
    "        senha=\"senha123\",\n",
    "        cpf=\"78900\",\n",
    "        telefone=\"123456789\",\n",
    "        rg=\"1234567\",\n",
    "        cartaoSus=\"987654321\",\n",
    "        rua=\"Rua A\",\n",
    "        bairro=\"Bairro B\",\n",
    "        cidade=\"Cidade C\",\n",
    "        cep=\"12345678\",\n",
    "        numero=\"10\",\n",
    "        referencia=\"Referencia\",\n",
    "        data_de_nascimento=\"01/01/1990\",\n",
    "        estado_civil=\"Solteiro\",\n",
    "        tipo_sanguineo=\"O+\",\n",
    "        nacionalidade=\"Brasileiro\",\n",
    "        sexo=\"Masculino\",\n",
    "        info_adicionais=\"Informações adicionais, se houver\"\n",
    "    )"
   ]
  },
  {
   "cell_type": "code",
   "execution_count": 21,
   "metadata": {},
   "outputs": [
    {
     "data": {
      "text/plain": [
       "{'3': {'1': '5', '2': '0'}, '1': {'1': '2', '2': '3'}}"
      ]
     },
     "execution_count": 21,
     "metadata": {},
     "output_type": "execute_result"
    }
   ],
   "source": []
  },
  {
   "cell_type": "code",
   "execution_count": null,
   "metadata": {},
   "outputs": [],
   "source": []
  }
 ],
 "metadata": {
  "kernelspec": {
   "display_name": "Python 3 (ipykernel)",
   "language": "python",
   "name": "python3"
  },
  "language_info": {
   "codemirror_mode": {
    "name": "ipython",
    "version": 3
   },
   "file_extension": ".py",
   "mimetype": "text/x-python",
   "name": "python",
   "nbconvert_exporter": "python",
   "pygments_lexer": "ipython3",
   "version": "3.9.2"
  }
 },
 "nbformat": 4,
 "nbformat_minor": 5
}
