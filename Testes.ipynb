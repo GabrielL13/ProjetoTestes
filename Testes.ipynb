{
 "cells": [
  {
   "cell_type": "code",
   "execution_count": 2,
   "id": "030a36ba",
   "metadata": {},
   "outputs": [],
   "source": [
    "from Sistema import Sistema\n",
    "from datetime import datetime"
   ]
  },
  {
   "cell_type": "code",
   "execution_count": 4,
   "metadata": {},
   "outputs": [],
   "source": [
    "sistema = Sistema()"
   ]
  },
  {
   "cell_type": "code",
   "execution_count": 5,
   "metadata": {},
   "outputs": [
    {
     "data": {
      "text/plain": [
       "True"
      ]
     },
     "execution_count": 5,
     "metadata": {},
     "output_type": "execute_result"
    }
   ],
   "source": [
    "sistema.fazer_login(\"Admin\",\"1234\",'senha123')"
   ]
  },
  {
   "cell_type": "code",
   "execution_count": 13,
   "metadata": {},
   "outputs": [
    {
     "name": "stdout",
     "output_type": "stream",
     "text": [
      "Ação não é permitida.\n"
     ]
    },
    {
     "data": {
      "text/plain": [
       "False"
      ]
     },
     "execution_count": 13,
     "metadata": {},
     "output_type": "execute_result"
    }
   ],
   "source": [
    "sistema.visualizar_dentista(\"78900\")"
   ]
  },
  {
   "cell_type": "code",
   "execution_count": 5,
   "metadata": {},
   "outputs": [
    {
     "data": {
      "text/plain": [
       "True"
      ]
     },
     "execution_count": 5,
     "metadata": {},
     "output_type": "execute_result"
    }
   ],
   "source": [
    "sistema.fazer_login(\"Paciente\",\"12345678900\",\"senha123\")"
   ]
  },
  {
   "cell_type": "code",
   "execution_count": 6,
   "metadata": {},
   "outputs": [
    {
     "name": "stdout",
     "output_type": "stream",
     "text": [
      "{\"texto\": \"Teste avaliacao\", \"nota\": \"10\", \"data\": \"2023-11-24 21:36:15.500832\"}\n"
     ]
    },
    {
     "data": {
      "text/plain": [
       "True"
      ]
     },
     "execution_count": 6,
     "metadata": {},
     "output_type": "execute_result"
    }
   ],
   "source": [
    "sistema.avaliar_atendimento(\"10\",\"Teste avaliacao\")"
   ]
  },
  {
   "cell_type": "code",
   "execution_count": 9,
   "metadata": {},
   "outputs": [
    {
     "name": "stdout",
     "output_type": "stream",
     "text": [
      "Paciente não existe.\n"
     ]
    },
    {
     "data": {
      "text/plain": [
       "False"
      ]
     },
     "execution_count": 9,
     "metadata": {},
     "output_type": "execute_result"
    }
   ],
   "source": [
    "sistema.visualizar_pagamento()"
   ]
  },
  {
   "cell_type": "code",
   "execution_count": 8,
   "metadata": {},
   "outputs": [
    {
     "name": "stdout",
     "output_type": "stream",
     "text": [
      "Pagamento realizado com sucesso.\n"
     ]
    },
    {
     "data": {
      "text/plain": [
       "True"
      ]
     },
     "execution_count": 8,
     "metadata": {},
     "output_type": "execute_result"
    }
   ],
   "source": [
    "sistema.realizar_pagamento(1000,\"debito\")"
   ]
  },
  {
   "cell_type": "code",
   "execution_count": 6,
   "metadata": {},
   "outputs": [
    {
     "data": {
      "text/plain": [
       "True"
      ]
     },
     "execution_count": 6,
     "metadata": {},
     "output_type": "execute_result"
    }
   ],
   "source": [
    "data = str(datetime.now())\n",
    "sistema.anexa_pagamento(\"12345678900\",\"Debito\",\"1000\",\"Real\",data)"
   ]
  },
  {
   "cell_type": "code",
   "execution_count": 21,
   "metadata": {},
   "outputs": [
    {
     "name": "stdout",
     "output_type": "stream",
     "text": [
      "Ação não é permitida.\n"
     ]
    },
    {
     "data": {
      "text/plain": [
       "False"
      ]
     },
     "execution_count": 21,
     "metadata": {},
     "output_type": "execute_result"
    }
   ],
   "source": [
    "sistema.solicitar_consulta()"
   ]
  },
  {
   "cell_type": "code",
   "execution_count": 4,
   "metadata": {},
   "outputs": [
    {
     "name": "stdout",
     "output_type": "stream",
     "text": [
      "{'12345678900': {'cpf': '12345678900', 'data': '2023-11-24T19:24:44.338585+00:00', 'nome': 'João'}}\n"
     ]
    },
    {
     "data": {
      "text/plain": [
       "True"
      ]
     },
     "execution_count": 4,
     "metadata": {},
     "output_type": "execute_result"
    }
   ],
   "source": [
    "sistema.ver_solicitacoes()"
   ]
  },
  {
   "cell_type": "code",
   "execution_count": 6,
   "metadata": {},
   "outputs": [
    {
     "name": "stdout",
     "output_type": "stream",
     "text": [
      "{'12345678900': {'cpf': '12345678900', 'data': '2023-11-24T19:24:44.338585+00:00', 'nome': 'João'}}\n"
     ]
    },
    {
     "data": {
      "text/plain": [
       "True"
      ]
     },
     "execution_count": 6,
     "metadata": {},
     "output_type": "execute_result"
    }
   ],
   "source": [
    "data = datetime.now()\n",
    "sistema.agendar_consulta(data,\"12345678900\",\"Dentista\",\"78900\",\"Teste Consulta\",\"01234\")"
   ]
  },
  {
   "cell_type": "code",
   "execution_count": 7,
   "metadata": {},
   "outputs": [
    {
     "data": {
      "text/plain": [
       "True"
      ]
     },
     "execution_count": 7,
     "metadata": {},
     "output_type": "execute_result"
    }
   ],
   "source": [
    "sistema.fazer_logout()"
   ]
  },
  {
   "cell_type": "code",
   "execution_count": 9,
   "metadata": {},
   "outputs": [
    {
     "name": "stdout",
     "output_type": "stream",
     "text": [
      "Ação não é permitida.\n"
     ]
    }
   ],
   "source": [
    "resultado_criar_ficha = sistema.criar_ficha(\n",
    "        nome=\"João\",\n",
    "        senha=\"senha123\",\n",
    "        cpf=\"12345678900\",\n",
    "        telefone=\"123456789\",\n",
    "        rg=\"1234567\",\n",
    "        cartaoSus=\"987654321\",\n",
    "        rua=\"Rua A\",\n",
    "        bairro=\"Bairro B\",\n",
    "        cidade=\"Cidade C\",\n",
    "        cep=\"12345678\",\n",
    "        numero=\"10\",\n",
    "        referencia=\"Referencia\",\n",
    "        data_de_nascimento=\"01/01/1990\",\n",
    "        estado_civil=\"Solteiro\",\n",
    "        tipo_sanguineo=\"O+\",\n",
    "        nacionalidade=\"Brasileiro\",\n",
    "        sexo=\"Masculino\",\n",
    "        info_adicionais=\"Informações adicionais, se houver\"\n",
    "    )"
   ]
  },
  {
   "cell_type": "code",
   "execution_count": 10,
   "metadata": {},
   "outputs": [
    {
     "name": "stdout",
     "output_type": "stream",
     "text": [
      "Ação não é permitida.\n"
     ]
    }
   ],
   "source": [
    "resultado = sistema.criar_ficha_atendente(\n",
    "        nome=\"Fulano\",\n",
    "        senha=\"senha123\",\n",
    "        cpf=\"1234\",\n",
    "        telefone=\"123456789\",\n",
    "        rg=\"1234567\",\n",
    "        cartaoSus=\"987654321\",\n",
    "        rua=\"Rua A\",\n",
    "        bairro=\"Bairro B\",\n",
    "        cidade=\"Cidade C\",\n",
    "        cep=\"12345678\",\n",
    "        numero=\"10\",\n",
    "        referencia=\"Referencia\",\n",
    "        data_de_nascimento=\"01/01/1990\",\n",
    "        estado_civil=\"Solteiro\",\n",
    "        tipo_sanguineo=\"O+\",\n",
    "        nacionalidade=\"Brasileiro\",\n",
    "        sexo=\"Masculino\",\n",
    "        info_adicionais=\"Informações adicionais, se houver\"\n",
    "    )"
   ]
  },
  {
   "cell_type": "code",
   "execution_count": 13,
   "metadata": {},
   "outputs": [
    {
     "name": "stdout",
     "output_type": "stream",
     "text": [
      "Ficha de Dentista já existe.\n"
     ]
    }
   ],
   "source": [
    "resultado = sistema.criar_ficha_dentista(\n",
    "        crm=\"CRM\",\n",
    "        estado=\"PB\",\n",
    "        nome=\"Dentista\",\n",
    "        senha=\"senha123\",\n",
    "        cpf=\"78900\",\n",
    "        telefone=\"123456789\",\n",
    "        rg=\"1234567\",\n",
    "        cartaoSus=\"987654321\",\n",
    "        rua=\"Rua A\",\n",
    "        bairro=\"Bairro B\",\n",
    "        cidade=\"Cidade C\",\n",
    "        cep=\"12345678\",\n",
    "        numero=\"10\",\n",
    "        referencia=\"Referencia\",\n",
    "        data_de_nascimento=\"01/01/1990\",\n",
    "        estado_civil=\"Solteiro\",\n",
    "        tipo_sanguineo=\"O+\",\n",
    "        nacionalidade=\"Brasileiro\",\n",
    "        sexo=\"Masculino\",\n",
    "        info_adicionais=\"Informações adicionais, se houver\"\n",
    "    )"
   ]
  }
 ],
 "metadata": {
  "kernelspec": {
   "display_name": "Python 3 (ipykernel)",
   "language": "python",
   "name": "python3"
  },
  "language_info": {
   "codemirror_mode": {
    "name": "ipython",
    "version": 3
   },
   "file_extension": ".py",
   "mimetype": "text/x-python",
   "name": "python",
   "nbconvert_exporter": "python",
   "pygments_lexer": "ipython3",
   "version": "3.9.2"
  }
 },
 "nbformat": 4,
 "nbformat_minor": 5
}
