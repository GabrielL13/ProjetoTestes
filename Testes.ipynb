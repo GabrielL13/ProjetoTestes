{
 "cells": [
  {
   "cell_type": "markdown",
   "id": "660691a3",
   "metadata": {},
   "source": [
    "Teste do Sistema odontológico"
   ]
  },
  {
   "cell_type": "code",
   "execution_count": 1,
   "metadata": {},
   "outputs": [
    {
     "data": {
      "text/plain": [
       "True"
      ]
     },
     "execution_count": 1,
     "metadata": {},
     "output_type": "execute_result"
    }
   ],
   "source": [
    "# Resetar Banco de Dados para os testes\n",
    "import requests\n",
    "r = requests.delete(\"https://projetotestes-459ea-default-rtdb.firebaseio.com/.json\")\n",
    "r.ok"
   ]
  },
  {
   "cell_type": "code",
   "execution_count": 2,
   "metadata": {},
   "outputs": [
    {
     "name": "stdout",
     "output_type": "stream",
     "text": [
      "\u001b[1m============================= test session starts ==============================\u001b[0m\n",
      "platform linux -- Python 3.9.2, pytest-7.4.2, pluggy-1.3.0\n",
      "rootdir: /home/VeronicaLopes/Documentos/ProjetoTestes\n",
      "plugins: ordering-0.6, anyio-3.6.2\n",
      "collected 10 items                                                             \u001b[0m\n",
      "\n",
      "test_sistema_unidades.py \u001b[32m.\u001b[0m\u001b[32m.\u001b[0m\u001b[32m.\u001b[0m\u001b[32m.\u001b[0m\u001b[32m.\u001b[0m\u001b[32m.\u001b[0m\u001b[32m.\u001b[0m\u001b[32m.\u001b[0m\u001b[32m.\u001b[0m\u001b[32m.\u001b[0m\u001b[32m                                      [100%]\u001b[0m\n",
      "\n",
      "\u001b[32m============================= \u001b[32m\u001b[1m10 passed\u001b[0m\u001b[32m in 59.08s\u001b[0m\u001b[32m ==============================\u001b[0m\n"
     ]
    }
   ],
   "source": [
    "# Executando testes das Unidades Admin, Dentista e Paciente\n",
    "!pytest -k TestUnidadeSistema test_sistema_unidades.py"
   ]
  },
  {
   "cell_type": "code",
   "execution_count": 1,
   "metadata": {},
   "outputs": [
    {
     "data": {
      "text/plain": [
       "True"
      ]
     },
     "execution_count": 1,
     "metadata": {},
     "output_type": "execute_result"
    }
   ],
   "source": [
    "# Resetar Banco de Dados para os testes\n",
    "import requests\n",
    "r = requests.delete(\"https://projetotestes-459ea-default-rtdb.firebaseio.com/.json\")\n",
    "r.ok"
   ]
  },
  {
   "cell_type": "code",
   "execution_count": 2,
   "metadata": {},
   "outputs": [
    {
     "name": "stdout",
     "output_type": "stream",
     "text": [
      "\u001b[1m============================= test session starts ==============================\u001b[0m\n",
      "platform linux -- Python 3.9.2, pytest-7.4.2, pluggy-1.3.0\n",
      "rootdir: /home/VeronicaLopes/Documentos/ProjetoTestes\n",
      "plugins: ordering-0.6, anyio-3.6.2\n",
      "collected 6 items                                                              \u001b[0m\n",
      "\n",
      "test_sistema_integracao.py \u001b[32m.\u001b[0m\u001b[32m.\u001b[0m\u001b[32m.\u001b[0m\u001b[32m.\u001b[0m\u001b[31mF\u001b[0m\u001b[32m.\u001b[0m\u001b[31m                                        [100%]\u001b[0m\n",
      "\n",
      "=================================== FAILURES ===================================\n",
      "\u001b[31m\u001b[1m________________ TestIntegracaoSistema.test_manipular_consulta _________________\u001b[0m\n",
      "\n",
      "self = <test_sistema_integracao.TestIntegracaoSistema object at 0x7f79891d5eb0>\n",
      "\n",
      "    \u001b[37m@pytest\u001b[39;49;00m.mark.run(order=\u001b[94m5\u001b[39;49;00m)\u001b[90m\u001b[39;49;00m\n",
      "    \u001b[94mdef\u001b[39;49;00m \u001b[92mtest_manipular_consulta\u001b[39;49;00m(\u001b[96mself\u001b[39;49;00m):\u001b[90m\u001b[39;49;00m\n",
      "        \u001b[96mself\u001b[39;49;00m.sistema.login = \u001b[94mTrue\u001b[39;49;00m\u001b[90m\u001b[39;49;00m\n",
      "        \u001b[96mself\u001b[39;49;00m.sistema.user = Admin()\u001b[90m\u001b[39;49;00m\n",
      "    \u001b[90m\u001b[39;49;00m\n",
      "        \u001b[90m# CT1 - Marcar uma consulta com solicitação pré-cadastrada\u001b[39;49;00m\u001b[90m\u001b[39;49;00m\n",
      "        \u001b[96mself\u001b[39;49;00m.sistema.criar_ficha(nome=\u001b[33m\"\u001b[39;49;00m\u001b[33mTesteConsulta\u001b[39;49;00m\u001b[33m\"\u001b[39;49;00m, cpf=\u001b[33m\"\u001b[39;49;00m\u001b[33madmin\u001b[39;49;00m\u001b[33m\"\u001b[39;49;00m, senha=\u001b[33m\"\u001b[39;49;00m\u001b[33mteste123\u001b[39;49;00m\u001b[33m\"\u001b[39;49;00m,\u001b[90m\u001b[39;49;00m\n",
      "                                               telefone=\u001b[33m\"\u001b[39;49;00m\u001b[33m12345678\u001b[39;49;00m\u001b[33m\"\u001b[39;49;00m, rg=\u001b[33m\"\u001b[39;49;00m\u001b[33m1234567\u001b[39;49;00m\u001b[33m\"\u001b[39;49;00m, cartaoSus=\u001b[33m\"\u001b[39;49;00m\u001b[33msus123\u001b[39;49;00m\u001b[33m\"\u001b[39;49;00m,\u001b[90m\u001b[39;49;00m\n",
      "                                               rua=\u001b[33m\"\u001b[39;49;00m\u001b[33mruateste\u001b[39;49;00m\u001b[33m\"\u001b[39;49;00m, bairro=\u001b[33m\"\u001b[39;49;00m\u001b[33mbairroteste\u001b[39;49;00m\u001b[33m\"\u001b[39;49;00m, cidade=\u001b[33m\"\u001b[39;49;00m\u001b[33mcidadeteste\u001b[39;49;00m\u001b[33m\"\u001b[39;49;00m,\u001b[90m\u001b[39;49;00m\n",
      "                                               numero=\u001b[33m\"\u001b[39;49;00m\u001b[33m1\u001b[39;49;00m\u001b[33m\"\u001b[39;49;00m, cep=\u001b[33m\"\u001b[39;49;00m\u001b[33mcep123\u001b[39;49;00m\u001b[33m\"\u001b[39;49;00m, referencia=\u001b[33m\"\u001b[39;49;00m\u001b[33msemref\u001b[39;49;00m\u001b[33m\"\u001b[39;49;00m,\u001b[90m\u001b[39;49;00m\n",
      "                                               data_de_nascimento=datetime.now(), estado_civil=\u001b[33m\"\u001b[39;49;00m\u001b[33mestado\u001b[39;49;00m\u001b[33m\"\u001b[39;49;00m,\u001b[90m\u001b[39;49;00m\n",
      "                                               tipo_sanguineo=\u001b[33m\"\u001b[39;49;00m\u001b[33mO+\u001b[39;49;00m\u001b[33m\"\u001b[39;49;00m, nacionalidade=\u001b[33m\"\u001b[39;49;00m\u001b[33mpaisteste\u001b[39;49;00m\u001b[33m\"\u001b[39;49;00m, sexo=\u001b[33m\"\u001b[39;49;00m\u001b[33msexoteste0\u001b[39;49;00m\u001b[33m\"\u001b[39;49;00m,\u001b[90m\u001b[39;49;00m\n",
      "                                               info_adicionais=\u001b[33m\"\u001b[39;49;00m\u001b[33madd\u001b[39;49;00m\u001b[33m\"\u001b[39;49;00m)\u001b[90m\u001b[39;49;00m\n",
      "        \u001b[94massert\u001b[39;49;00m \u001b[96mself\u001b[39;49;00m.sistema.agendar_consulta(cpf=\u001b[33m\"\u001b[39;49;00m\u001b[33madmin\u001b[39;49;00m\u001b[33m\"\u001b[39;49;00m,data=datetime.now()\u001b[90m\u001b[39;49;00m\n",
      "                                    ,nome_dentista=\u001b[33m\"\u001b[39;49;00m\u001b[33madmin\u001b[39;49;00m\u001b[33m\"\u001b[39;49;00m,cpf_dentista=\u001b[33m\"\u001b[39;49;00m\u001b[33madmin\u001b[39;49;00m\u001b[33m\"\u001b[39;49;00m,descricao=\u001b[33m\"\u001b[39;49;00m\u001b[33mconsulta_teste1\u001b[39;49;00m\u001b[33m\"\u001b[39;49;00m)\u001b[90m\u001b[39;49;00m\n",
      "    \u001b[90m\u001b[39;49;00m\n",
      "        \u001b[90m# CT2 - Tentativa de marcar consulta sem cadastro\u001b[39;49;00m\u001b[90m\u001b[39;49;00m\n",
      "        \u001b[94massert\u001b[39;49;00m \u001b[95mnot\u001b[39;49;00m \u001b[96mself\u001b[39;49;00m.sistema.agendar_consulta(cpf=\u001b[33m\"\u001b[39;49;00m\u001b[33m9431031\u001b[39;49;00m\u001b[33m\"\u001b[39;49;00m,data=datetime.now()\u001b[90m\u001b[39;49;00m\n",
      "                                    ,nome_dentista=\u001b[33m\"\u001b[39;49;00m\u001b[33madmin\u001b[39;49;00m\u001b[33m\"\u001b[39;49;00m,cpf_dentista=\u001b[33m\"\u001b[39;49;00m\u001b[33madmin\u001b[39;49;00m\u001b[33m\"\u001b[39;49;00m,descricao=\u001b[33m\"\u001b[39;49;00m\u001b[33mconsulta_teste1\u001b[39;49;00m\u001b[33m\"\u001b[39;49;00m)\u001b[90m\u001b[39;49;00m\n",
      "    \u001b[90m\u001b[39;49;00m\n",
      "        \u001b[90m# CT3 - Tentativa de marcar consulta que já existe (reagendamento)\u001b[39;49;00m\u001b[90m\u001b[39;49;00m\n",
      ">       \u001b[94massert\u001b[39;49;00m \u001b[96mself\u001b[39;49;00m.sistema.agendar_consulta(cpf=\u001b[33m\"\u001b[39;49;00m\u001b[33madmin\u001b[39;49;00m\u001b[33m\"\u001b[39;49;00m,data=datetime.now()\u001b[90m\u001b[39;49;00m\n",
      "                                    ,nome_dentista=\u001b[33m\"\u001b[39;49;00m\u001b[33madmin\u001b[39;49;00m\u001b[33m\"\u001b[39;49;00m,cpf_dentista=\u001b[33m\"\u001b[39;49;00m\u001b[33madmin\u001b[39;49;00m\u001b[33m\"\u001b[39;49;00m,descricao=\u001b[33m\"\u001b[39;49;00m\u001b[33mreagentamento\u001b[39;49;00m\u001b[33m\"\u001b[39;49;00m)\u001b[90m\u001b[39;49;00m\n",
      "\u001b[1m\u001b[31mE       AssertionError: assert False\u001b[0m\n",
      "\u001b[1m\u001b[31mE        +  where False = <bound method Sistema.agendar_consulta of <Sistema.Sistema object at 0x7f7989a77580>>(cpf='admin', data=datetime.datetime(2023, 12, 5, 19, 24, 14, 22905), nome_dentista='admin', cpf_dentista='admin', descricao='reagentamento')\u001b[0m\n",
      "\u001b[1m\u001b[31mE        +    where <bound method Sistema.agendar_consulta of <Sistema.Sistema object at 0x7f7989a77580>> = <Sistema.Sistema object at 0x7f7989a77580>.agendar_consulta\u001b[0m\n",
      "\u001b[1m\u001b[31mE        +      where <Sistema.Sistema object at 0x7f7989a77580> = <test_sistema_integracao.TestIntegracaoSistema object at 0x7f79891d5eb0>.sistema\u001b[0m\n",
      "\u001b[1m\u001b[31mE        +    and   datetime.datetime(2023, 12, 5, 19, 24, 14, 22905) = <built-in method now of type object at 0x929f20>()\u001b[0m\n",
      "\u001b[1m\u001b[31mE        +      where <built-in method now of type object at 0x929f20> = datetime.now\u001b[0m\n",
      "\n",
      "\u001b[1m\u001b[31mtest_sistema_integracao.py\u001b[0m:264: AssertionError\n",
      "----------------------------- Captured stdout call -----------------------------\n",
      "{'admin': {'cpf': 'admin', 'data': '2023-12-05 19:24:00.195931', 'nome': 'Teste'}}\n",
      "Não Existe Requisições de Consulta.\n",
      "Não Existe Requisições de Consulta.\n",
      "\u001b[36m\u001b[1m=========================== short test summary info ============================\u001b[0m\n",
      "\u001b[31mFAILED\u001b[0m test_sistema_integracao.py::\u001b[1mTestIntegracaoSistema::test_manipular_consulta\u001b[0m - AssertionError: assert False\n",
      "\u001b[31m========================= \u001b[31m\u001b[1m1 failed\u001b[0m, \u001b[32m5 passed\u001b[0m\u001b[31m in 29.08s\u001b[0m\u001b[31m =========================\u001b[0m\n"
     ]
    }
   ],
   "source": [
    "# Executando testes integrados a classe de Fachada Sistema\n",
    "!pytest -k TestIntegracaoSistema test_sistema_integracao.py"
   ]
  },
  {
   "cell_type": "code",
   "execution_count": null,
   "metadata": {},
   "outputs": [],
   "source": []
  }
 ],
 "metadata": {
  "kernelspec": {
   "display_name": "Python 3 (ipykernel)",
   "language": "python",
   "name": "python3"
  },
  "language_info": {
   "codemirror_mode": {
    "name": "ipython",
    "version": 3
   },
   "file_extension": ".py",
   "mimetype": "text/x-python",
   "name": "python",
   "nbconvert_exporter": "python",
   "pygments_lexer": "ipython3",
   "version": "3.9.2"
  }
 },
 "nbformat": 4,
 "nbformat_minor": 5
}
