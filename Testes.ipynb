{
 "cells": [
  {
   "cell_type": "code",
   "execution_count": 1,
   "id": "030a36ba",
   "metadata": {},
   "outputs": [],
   "source": [
    "from Sistema import Sistema\n",
    "from datetime import datetime"
   ]
  },
  {
   "cell_type": "code",
   "execution_count": 2,
   "metadata": {},
   "outputs": [],
   "source": [
    "sistema = Sistema()"
   ]
  },
  {
   "cell_type": "code",
   "execution_count": 3,
   "metadata": {},
   "outputs": [
    {
     "name": "stdout",
     "output_type": "stream",
     "text": [
      "Erro CPF de Usuario não existe.\n"
     ]
    },
    {
     "data": {
      "text/plain": [
       "False"
      ]
     },
     "execution_count": 3,
     "metadata": {},
     "output_type": "execute_result"
    }
   ],
   "source": [
    "sistema.fazer_login(\"Dentista\",\"78900\",'senha123')"
   ]
  },
  {
   "cell_type": "code",
   "execution_count": 10,
   "metadata": {},
   "outputs": [
    {
     "name": "stdout",
     "output_type": "stream",
     "text": [
      "Ação não é permitida.\n"
     ]
    },
    {
     "data": {
      "text/plain": [
       "False"
      ]
     },
     "execution_count": 10,
     "metadata": {},
     "output_type": "execute_result"
    }
   ],
   "source": [
    "sistema.adicionar_anexo(\"12345678900\",\"Receita\",\"Remedio\",\"12/12 horas\")"
   ]
  },
  {
   "cell_type": "code",
   "execution_count": 11,
   "metadata": {},
   "outputs": [
    {
     "name": "stdout",
     "output_type": "stream",
     "text": [
      "Senha Incorreta\n"
     ]
    },
    {
     "data": {
      "text/plain": [
       "False"
      ]
     },
     "execution_count": 11,
     "metadata": {},
     "output_type": "execute_result"
    }
   ],
   "source": [
    "sistema.fazer_login(\"Paciente\",\"987654321\",\"senha123\")"
   ]
  },
  {
   "cell_type": "code",
   "execution_count": 12,
   "metadata": {},
   "outputs": [
    {
     "name": "stdout",
     "output_type": "stream",
     "text": [
      "Ação não é permitida.\n"
     ]
    },
    {
     "data": {
      "text/plain": [
       "False"
      ]
     },
     "execution_count": 12,
     "metadata": {},
     "output_type": "execute_result"
    }
   ],
   "source": [
    "sistema.avaliar_atendimento(\"10\",\"Teste avaliacao\")"
   ]
  },
  {
   "cell_type": "code",
   "execution_count": 13,
   "metadata": {},
   "outputs": [
    {
     "name": "stdout",
     "output_type": "stream",
     "text": [
      "Ação não é permitida.\n"
     ]
    },
    {
     "data": {
      "text/plain": [
       "False"
      ]
     },
     "execution_count": 13,
     "metadata": {},
     "output_type": "execute_result"
    }
   ],
   "source": [
    "sistema.visualizar_pagamento()"
   ]
  },
  {
   "cell_type": "code",
   "execution_count": 14,
   "metadata": {},
   "outputs": [
    {
     "name": "stdout",
     "output_type": "stream",
     "text": [
      "Ação não é permitida.\n"
     ]
    },
    {
     "data": {
      "text/plain": [
       "False"
      ]
     },
     "execution_count": 14,
     "metadata": {},
     "output_type": "execute_result"
    }
   ],
   "source": [
    "sistema.realizar_pagamento(1000,\"debito\")"
   ]
  },
  {
   "cell_type": "code",
   "execution_count": 15,
   "metadata": {},
   "outputs": [
    {
     "name": "stdout",
     "output_type": "stream",
     "text": [
      "Ação não é permitida.\n"
     ]
    },
    {
     "data": {
      "text/plain": [
       "False"
      ]
     },
     "execution_count": 15,
     "metadata": {},
     "output_type": "execute_result"
    }
   ],
   "source": [
    "data = str(datetime.now())\n",
    "sistema.anexa_pagamento(\"12345678900\",\"1000\",\"Real\",data)"
   ]
  },
  {
   "cell_type": "code",
   "execution_count": 16,
   "metadata": {},
   "outputs": [
    {
     "name": "stdout",
     "output_type": "stream",
     "text": [
      "Ação não é permitida.\n"
     ]
    },
    {
     "data": {
      "text/plain": [
       "False"
      ]
     },
     "execution_count": 16,
     "metadata": {},
     "output_type": "execute_result"
    }
   ],
   "source": [
    "sistema.solicitar_consulta()"
   ]
  },
  {
   "cell_type": "code",
   "execution_count": 17,
   "metadata": {},
   "outputs": [
    {
     "name": "stdout",
     "output_type": "stream",
     "text": [
      "Ação não é permitida.\n"
     ]
    },
    {
     "data": {
      "text/plain": [
       "False"
      ]
     },
     "execution_count": 17,
     "metadata": {},
     "output_type": "execute_result"
    }
   ],
   "source": [
    "sistema.ver_solicitacoes()"
   ]
  },
  {
   "cell_type": "code",
   "execution_count": 3,
   "metadata": {},
   "outputs": [
    {
     "name": "stdout",
     "output_type": "stream",
     "text": [
      "{'987654321': {'cpf': '987654321', 'data': '2023-11-26 20:51:40.523313', 'nome': 'Maria'}}\n",
      "Requisição não encontrada.\n"
     ]
    },
    {
     "data": {
      "text/plain": [
       "True"
      ]
     },
     "execution_count": 3,
     "metadata": {},
     "output_type": "execute_result"
    }
   ],
   "source": [
    "\n",
    "sistema.agendar_consulta(\"123\",\"987\",\"Dentista\",\"123456789\",\"Teste Consulta\")"
   ]
  },
  {
   "cell_type": "code",
   "execution_count": 19,
   "metadata": {},
   "outputs": [
    {
     "data": {
      "text/plain": [
       "True"
      ]
     },
     "execution_count": 19,
     "metadata": {},
     "output_type": "execute_result"
    }
   ],
   "source": [
    "sistema.fazer_logout()"
   ]
  },
  {
   "cell_type": "code",
   "execution_count": 20,
   "metadata": {},
   "outputs": [
    {
     "name": "stdout",
     "output_type": "stream",
     "text": [
      "Ação não é permitida.\n"
     ]
    }
   ],
   "source": [
    "resultado_criar_ficha = sistema.criar_ficha(\n",
    "        nome=\"João\",\n",
    "        senha=\"senha123\",\n",
    "        cpf=\"12345678900\",\n",
    "        telefone=\"123456789\",\n",
    "        rg=\"1234567\",\n",
    "        cartaoSus=\"987654321\",\n",
    "        rua=\"Rua A\",\n",
    "        bairro=\"Bairro B\",\n",
    "        cidade=\"Cidade C\",\n",
    "        cep=\"12345678\",\n",
    "        numero=\"10\",\n",
    "        referencia=\"Referencia\",\n",
    "        data_de_nascimento=\"01/01/1990\",\n",
    "        estado_civil=\"Solteiro\",\n",
    "        tipo_sanguineo=\"O+\",\n",
    "        nacionalidade=\"Brasileiro\",\n",
    "        sexo=\"Masculino\",\n",
    "        info_adicionais=\"Informações adicionais, se houver\"\n",
    "    )"
   ]
  },
  {
   "cell_type": "code",
   "execution_count": 21,
   "metadata": {},
   "outputs": [
    {
     "name": "stdout",
     "output_type": "stream",
     "text": [
      "Ação não é permitida.\n"
     ]
    }
   ],
   "source": [
    "resultado = sistema.criar_ficha_atendente(\n",
    "        nome=\"Fulano\",\n",
    "        senha=\"senha123\",\n",
    "        cpf=\"1234\",\n",
    "        telefone=\"123456789\",\n",
    "        rg=\"1234567\",\n",
    "        cartaoSus=\"987654321\",\n",
    "        rua=\"Rua A\",\n",
    "        bairro=\"Bairro B\",\n",
    "        cidade=\"Cidade C\",\n",
    "        cep=\"12345678\",\n",
    "        numero=\"10\",\n",
    "        referencia=\"Referencia\",\n",
    "        data_de_nascimento=\"01/01/1990\",\n",
    "        estado_civil=\"Solteiro\",\n",
    "        tipo_sanguineo=\"O+\",\n",
    "        nacionalidade=\"Brasileiro\",\n",
    "        sexo=\"Masculino\",\n",
    "        info_adicionais=\"Informações adicionais, se houver\"\n",
    "    )"
   ]
  },
  {
   "cell_type": "code",
   "execution_count": 22,
   "metadata": {},
   "outputs": [
    {
     "name": "stdout",
     "output_type": "stream",
     "text": [
      "Ação não é permitida.\n"
     ]
    }
   ],
   "source": [
    "resultado = sistema.criar_ficha_dentista(\n",
    "        crm=\"CRM\",\n",
    "        estado=\"PB\",\n",
    "        nome=\"Dentista\",\n",
    "        senha=\"senha123\",\n",
    "        cpf=\"78900\",\n",
    "        telefone=\"123456789\",\n",
    "        rg=\"1234567\",\n",
    "        cartaoSus=\"987654321\",\n",
    "        rua=\"Rua A\",\n",
    "        bairro=\"Bairro B\",\n",
    "        cidade=\"Cidade C\",\n",
    "        cep=\"12345678\",\n",
    "        numero=\"10\",\n",
    "        referencia=\"Referencia\",\n",
    "        data_de_nascimento=\"01/01/1990\",\n",
    "        estado_civil=\"Solteiro\",\n",
    "        tipo_sanguineo=\"O+\",\n",
    "        nacionalidade=\"Brasileiro\",\n",
    "        sexo=\"Masculino\",\n",
    "        info_adicionais=\"Informações adicionais, se houver\"\n",
    "    )"
   ]
  },
  {
   "cell_type": "code",
   "execution_count": 1,
   "metadata": {},
   "outputs": [
    {
     "name": "stdout",
     "output_type": "stream",
     "text": [
      "Erro CPF de Usuario não existe.\n",
      "Ficha de Paciente já existe.\n",
      "Ficha de paciente criada: False\n",
      "Ficha de Dentista já existe.\n",
      "Ficha de dentista criada: False\n",
      "Ficha de Atendente já existe.\n",
      "Ficha de atendente criada: False\n",
      "Paciente não está registrado\n",
      "Cadastro atualizado: False\n"
     ]
    }
   ],
   "source": [
    "from Sistema import Sistema\n",
    "from Admin import Admin\n",
    "sistema = Sistema()\n",
    "    \n",
    "# Simulação de login como Admin bem-sucedido\n",
    "sistema.fazer_login(\"Admin\", \"1234\", \"senha123\")\n",
    "sistema.login = True\n",
    "sistema.user = Admin(\"Pedro\", \"senha789\", \"456789123\", \"987654321\", \"1234567890\", \"123456\",\"wdjewhuf\" ,\"1970-01-01\", \"Divorciado\", \"A-\", \"Brasileiro\", \"M\", \"Info adicional atendente\")\n",
    "    \n",
    "# Criar ficha de um paciente pelo Admin\n",
    "ficha_paciente = sistema.criar_ficha(\"João\", \"senha123\", \"987\", \"123456789\", \"1234567890\", \"123456\", \"Rua A\", \"Bairro B\", \"Cidade C\", \"12345678\", \"456\", \"Referencia\", \"1990-01-01\", \"Solteiro\", \"O+\", \"Brasileiro\", \"M\", \"Info adicional\")\n",
    "print(\"Ficha de paciente criada:\", ficha_paciente)\n",
    "\n",
    "# Criar ficha de um dentista pelo Admin\n",
    "ficha_dentista = sistema.criar_ficha_dentista(\"CRM12345\", \"SP\", \"Maria\", \"senha456\", \"123456789\", \"987654321\", \"1234567890\", \"123456\", \"Rua X\", \"Bairro Y\", \"Cidade Z\", \"87654321\", \"789\", \"Outra Referencia\", \"1980-01-01\", \"Casado\", \"AB+\", \"Brasileiro\", \"F\", \"Info adicional dentista\")\n",
    "print(\"Ficha de dentista criada:\", ficha_dentista)\n",
    "\n",
    "# Criar ficha de um atendente pelo Admin\n",
    "ficha_atendente = sistema.criar_ficha_atendente(\"Pedro\", \"senha789\", \"45623\", \"987654321\", \"1234567890\", \"123456\", \"Rua W\", \"Bairro V\", \"Cidade U\", \"7654321\", \"987\", \"Referencia Atendente\", \"1970-01-01\", \"Divorciado\", \"A-\", \"Brasileiro\", \"M\", \"Info adicional atendente\")\n",
    "print(\"Ficha de atendente criada:\", ficha_atendente)\n",
    "\n",
    "# Atualizar cadastro de um paciente pelo Admin\n",
    "cadastro_atualizado = sistema.atualizar_cadastro(\"Maria\", \"outrasenha\", \"7654321\", \"123456789\", \"1234567890\", \"123456\", \"Rua A\", \"Bairro B\", \"Cidade C\", \"12345678\", \"456\", \"Nova Referencia\", \"1990-01-01\", \"Solteiro\", \"O+\", \"Brasileiro\", \"F\", \"Info atualizada\")\n",
    "print(\"Cadastro atualizado:\", cadastro_atualizado)\n",
    "\n"
   ]
  },
  {
   "cell_type": "code",
   "execution_count": 9,
   "metadata": {},
   "outputs": [
    {
     "name": "stdout",
     "output_type": "stream",
     "text": [
      "Consulta solicitada: True\n",
      "{\"texto\": \"\\u00d3timo atendimento!\", \"nota\": 4, \"data\": \"2023-11-26 20:51:41.345097\"}\n",
      "Avaliação realizada: True\n"
     ]
    }
   ],
   "source": [
    "sistema = Sistema()\n",
    "\n",
    "    # Simulação de login como Paciente bem-sucedido\n",
    "sistema.fazer_login(\"Paciente\", \"987654321\", \"outrasenha\")\n",
    "\n",
    "    # Simular solicitação de consulta\n",
    "consulta_solicitada = sistema.solicitar_consulta()\n",
    "print(\"Consulta solicitada:\", consulta_solicitada)\n",
    "\n",
    "    # Simular avaliação de atendimento\n",
    "avaliacao = sistema.avaliar_atendimento(4, \"Ótimo atendimento!\")\n",
    "print(\"Avaliação realizada:\", avaliacao)"
   ]
  },
  {
   "cell_type": "code",
   "execution_count": 4,
   "metadata": {},
   "outputs": [
    {
     "name": "stdout",
     "output_type": "stream",
     "text": [
      "{'-NkCvbpRHBry-6KEYM0N': {'data': '2023-11-26 20:19:42.058250', 'nota': 4, 'texto': 'Ótimo atendimento!'}, '-NkCvtmDlj1C5GNHYwYq': {'data': '2023-11-26 20:20:55.670875', 'nota': 4, 'texto': 'Ótimo atendimento!'}, '-NkCwT2otSRT4BX9LCn1': {'data': '2023-11-26 20:23:24.264712', 'nota': 4, 'texto': 'Ótimo atendimento!'}, '-NkCxENhRHVa3d85Q7AL': {'data': '2023-11-26 20:26:46.298976', 'nota': 4, 'texto': 'Ótimo atendimento!'}, '-NkCyFPD1iMFD2zmzKaz': {'data': '2023-11-26 20:31:12.636330', 'nota': 4, 'texto': 'Ótimo atendimento!'}, '-NkD1wNduVp5GxQf11Jg': {'data': '2023-11-26 20:51:41.345097', 'nota': 4, 'texto': 'Ótimo atendimento!'}}\n",
      "Avaliações existentes: True\n",
      "{'123456789': {'cartaoSus': '123456', 'cpf': '123456789', 'crm': 'CRM12345', 'data_de_nascimento': '1980-01-01', 'endereco': {'bairro': 'Bairro Y', 'cep': '87654321', 'cidade': 'Cidade Z', 'numero': '789', 'referencia': 'Outra Referencia', 'rua': 'Rua X'}, 'estado': 'SP', 'estado_civil': 'Casado', 'info_adicionais': 'Info adicional dentista', 'nacionalidade': 'Brasileiro', 'nome': 'Maria', 'rg': '1234567890', 'senha': 'senha456', 'sexo': 'F', 'telefone': '987654321', 'tipo_sanguineo': 'AB+'}}\n",
      "Dentistas cadastrados: True\n",
      "{'987': {'cpf_dentista': '987654321', 'cpf_paciente': '987', 'data_horario': '2023-12-01', 'descricao': 'Consulta de rotina', 'nome_dentista': 'Dr. Silva', 'nome_paciente': 'João'}, '987654321': {'cpf_dentista': '987654321', 'cpf_paciente': '987654321', 'data_horario': '2023-12-01', 'descricao': 'Consulta de rotina', 'nome_dentista': 'Dr. Silva', 'nome_paciente': 'Maria'}}\n",
      "Agenda do dentista: True\n"
     ]
    }
   ],
   "source": [
    "if __name__ == \"__main__\":\n",
    "    sistema = Sistema()\n",
    "\n",
    "    # Simulação de login como Administrador bem-sucedido\n",
    "    sistema.fazer_login(\"Admin\", \"45623\", \"senha789\")\n",
    "\n",
    "    # Verificar avaliações existentes\n",
    "    avaliacoes = sistema.verificar_avaliacoes()\n",
    "    print(\"Avaliações existentes:\", avaliacoes)\n",
    "\n",
    "    # Visualizar dentistas cadastrados\n",
    "    dentistas = sistema.visualizar_dentistas()\n",
    "    print(\"Dentistas cadastrados:\", dentistas)\n",
    "\n",
    "    # Simular agendamento de consulta (requer solicitações de consulta existentes\n",
    "    # Visualizar agenda de um dentista específico\n",
    "    agenda_dentista = sistema.ver_agenda_dentista(\"987654321\")\n",
    "    print(\"Agenda do dentista:\", agenda_dentista)\n",
    "\n",
    "    # Logout do Administrador\n",
    "    sistema.fazer_logout()\n"
   ]
  },
  {
   "cell_type": "code",
   "execution_count": 5,
   "metadata": {},
   "outputs": [
    {
     "name": "stdout",
     "output_type": "stream",
     "text": [
      "{'987654321': {'cpf': '987654321', 'data': '2023-11-26 20:51:40.523313', 'nome': 'Maria'}}\n",
      "{'987654321': {'cpf': '987654321', 'data': '2023-11-26 20:51:40.523313', 'nome': 'Maria'}}\n",
      "Agendamento realizado: True\n"
     ]
    }
   ],
   "source": [
    "sistema.fazer_login(\"Admin\", \"45623\", \"senha789\")\n",
    "solicitacoes_existentes = sistema.ver_solicitacoes()\n",
    "if solicitacoes_existentes:\n",
    "    agendamento = sistema.agendar_consulta(\"2023-12-01\", \"987654321\", \"Dr. Silva\",\"\", \"Consulta de rotina\")\n",
    "    print(\"Agendamento realizado:\", agendamento)\n",
    "else:\n",
    "    print(\"Não há solicitações de consulta para agendar.\")\n"
   ]
  },
  {
   "cell_type": "code",
   "execution_count": 1,
   "metadata": {},
   "outputs": [
    {
     "name": "stdout",
     "output_type": "stream",
     "text": [
      "--- Teste visualizar_paciente ---\n",
      "Paciente não existe.\n",
      "Paciente não existe.\n",
      "\n",
      "--- Teste ver_historico_paciente ---\n",
      "Paciente não existe ou não possui histórico.\n",
      "\n",
      "--- Teste adicionar_anexo ---\n",
      "\n",
      "--- Teste ver_agenda ---\n",
      "Agenda Não Existe\n",
      "\n",
      "--- Teste cancelar_consulta ---\n",
      "Erro ao procurar consulta.\n",
      "False\n"
     ]
    }
   ],
   "source": [
    "from Sistema import Sistema\n",
    "if __name__ == \"__main__\":\n",
    "    sistema = Sistema()  # Inicializa o sistema\n",
    "\n",
    "    # Teste para visualizar_paciente\n",
    "    print(\"--- Teste visualizar_paciente ---\")\n",
    "    sistema.fazer_login(\"Dentista\",\"123456789\",\"senha456\")\n",
    "    sistema.visualizar_paciente(\"12345678900\")  # CPF válido\n",
    "    sistema.visualizar_paciente(\"99999999999\")  # CPF fictício\n",
    "\n",
    "    # Teste para ver_historico_paciente\n",
    "    print(\"\\n--- Teste ver_historico_paciente ---\")\n",
    "    sistema.ver_historico_paciente(\"12345678900\")  # CPF válido\n",
    "    sistema.ver_historico_paciente(\"99999999999\")  # CPF fictício\n",
    "\n",
    "    # Teste para adicionar_anexo\n",
    "    print(\"\\n--- Teste adicionar_anexo ---\")\n",
    "    sistema.adicionar_anexo(\"12345678900\", \"Raio-X\", \"Imagem.jpg\", \"Detalhes adicionais\")\n",
    "    sistema.ver_historico_paciente(\"12345678900\")\n",
    "\n",
    "    # Teste para ver_agenda\n",
    "    print(\"\\n--- Teste ver_agenda ---\")\n",
    "    sistema.ver_agenda()\n",
    "\n",
    "    # Teste para cancelar_consulta\n",
    "    print(\"\\n--- Teste cancelar_consulta ---\")\n",
    "    print(sistema.cancelar_consulta(\"987\"))  # CPF válido\n"
   ]
  },
  {
   "cell_type": "code",
   "execution_count": null,
   "metadata": {},
   "outputs": [],
   "source": []
  }
 ],
 "metadata": {
  "kernelspec": {
   "display_name": "Python 3 (ipykernel)",
   "language": "python",
   "name": "python3"
  },
  "language_info": {
   "codemirror_mode": {
    "name": "ipython",
    "version": 3
   },
   "file_extension": ".py",
   "mimetype": "text/x-python",
   "name": "python",
   "nbconvert_exporter": "python",
   "pygments_lexer": "ipython3",
   "version": "3.9.2"
  }
 },
 "nbformat": 4,
 "nbformat_minor": 5
}
