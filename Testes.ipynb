{
 "cells": [
  {
   "cell_type": "code",
   "execution_count": 1,
   "id": "030a36ba",
   "metadata": {},
   "outputs": [],
   "source": [
    "from Sistema import Sistema\n",
    "from Admin import Admin\n",
    "from Endereco import Endereco\n",
    "from datetime import datetime"
   ]
  },
  {
   "cell_type": "code",
   "execution_count": 2,
   "metadata": {},
   "outputs": [],
   "source": [
    "sistema = Sistema()"
   ]
  },
  {
   "cell_type": "code",
   "execution_count": 7,
   "metadata": {},
   "outputs": [
    {
     "data": {
      "text/plain": [
       "True"
      ]
     },
     "execution_count": 7,
     "metadata": {},
     "output_type": "execute_result"
    }
   ],
   "source": [
    "sistema.fazer_login(\"Admin\",\"1234\",'senha123')"
   ]
  },
  {
   "cell_type": "code",
   "execution_count": 8,
   "metadata": {},
   "outputs": [
    {
     "name": "stdout",
     "output_type": "stream",
     "text": [
      "{'-Nk2tqB4jU6u8e4zrsjU': {'data': '2023-11-24 21:35:44.487594', 'nota': '5', 'texto': 'Teste avaliacao'}, '-Nk2txjyQ-uGqCQSsa70': {'data': '2023-11-24 21:36:15.500832', 'nota': '10', 'texto': 'Teste avaliacao'}}\n"
     ]
    },
    {
     "data": {
      "text/plain": [
       "True"
      ]
     },
     "execution_count": 8,
     "metadata": {},
     "output_type": "execute_result"
    }
   ],
   "source": [
    "sistema.verificar_avaliacoes()"
   ]
  },
  {
   "cell_type": "code",
   "execution_count": 4,
   "metadata": {},
   "outputs": [
    {
     "data": {
      "text/plain": [
       "True"
      ]
     },
     "execution_count": 4,
     "metadata": {},
     "output_type": "execute_result"
    }
   ],
   "source": [
    "sistema.fazer_login(\"Paciente\",\"12345678900\",\"senha123\")"
   ]
  },
  {
   "cell_type": "code",
   "execution_count": 6,
   "metadata": {},
   "outputs": [
    {
     "name": "stdout",
     "output_type": "stream",
     "text": [
      "{\"texto\": \"Teste avaliacao\", \"nota\": \"10\", \"data\": \"2023-11-24 21:36:15.500832\"}\n"
     ]
    },
    {
     "data": {
      "text/plain": [
       "True"
      ]
     },
     "execution_count": 6,
     "metadata": {},
     "output_type": "execute_result"
    }
   ],
   "source": [
    "sistema.avaliar_atendimento(\"10\",\"Teste avaliacao\")"
   ]
  },
  {
   "cell_type": "code",
   "execution_count": 6,
   "metadata": {},
   "outputs": [
    {
     "data": {
      "text/plain": [
       "True"
      ]
     },
     "execution_count": 6,
     "metadata": {},
     "output_type": "execute_result"
    }
   ],
   "source": [
    "sistema.notificar(\"12345678900\",\"Novo teste denovo\")"
   ]
  },
  {
   "cell_type": "code",
   "execution_count": 9,
   "metadata": {},
   "outputs": [
    {
     "name": "stdout",
     "output_type": "stream",
     "text": [
      "{'-Nk2f3UrORoHAjM1_ARS': {'cpf_emissor': '1234', 'cpf_receptor': '12345678900', 'data': '2023-11-24 20:31:10.812898', 'texto': 'Teste mensagem'}, '-Nk2fD58oCOKVKcoC_je': {'cpf_emissor': '1234', 'cpf_receptor': '12345678900', 'data': '2023-11-24 20:31:50.352783', 'texto': 'Novo teste'}, '-Nk2fINjlkt2BfL-JX0u': {'cpf_emissor': '1234', 'cpf_receptor': '12345678900', 'data': '2023-11-24 20:32:11.880707', 'texto': 'Novo teste denovo'}}\n"
     ]
    },
    {
     "data": {
      "text/plain": [
       "True"
      ]
     },
     "execution_count": 9,
     "metadata": {},
     "output_type": "execute_result"
    }
   ],
   "source": [
    "sistema.ver_notificacoes()"
   ]
  },
  {
   "cell_type": "code",
   "execution_count": 6,
   "metadata": {},
   "outputs": [
    {
     "data": {
      "text/plain": [
       "True"
      ]
     },
     "execution_count": 6,
     "metadata": {},
     "output_type": "execute_result"
    }
   ],
   "source": [
    "data = str(datetime.now())\n",
    "sistema.anexa_pagamento(\"12345678900\",\"Debito\",\"1000\",\"Real\",data)"
   ]
  },
  {
   "cell_type": "code",
   "execution_count": 21,
   "metadata": {},
   "outputs": [
    {
     "name": "stdout",
     "output_type": "stream",
     "text": [
      "Ação não é permitida.\n"
     ]
    },
    {
     "data": {
      "text/plain": [
       "False"
      ]
     },
     "execution_count": 21,
     "metadata": {},
     "output_type": "execute_result"
    }
   ],
   "source": [
    "sistema.solicitar_consulta()"
   ]
  },
  {
   "cell_type": "code",
   "execution_count": 4,
   "metadata": {},
   "outputs": [
    {
     "name": "stdout",
     "output_type": "stream",
     "text": [
      "{'12345678900': {'cpf': '12345678900', 'data': '2023-11-24T19:24:44.338585+00:00', 'nome': 'João'}}\n"
     ]
    },
    {
     "data": {
      "text/plain": [
       "True"
      ]
     },
     "execution_count": 4,
     "metadata": {},
     "output_type": "execute_result"
    }
   ],
   "source": [
    "sistema.ver_solicitacoes()"
   ]
  },
  {
   "cell_type": "code",
   "execution_count": 6,
   "metadata": {},
   "outputs": [
    {
     "name": "stdout",
     "output_type": "stream",
     "text": [
      "{'12345678900': {'cpf': '12345678900', 'data': '2023-11-24T19:24:44.338585+00:00', 'nome': 'João'}}\n"
     ]
    },
    {
     "data": {
      "text/plain": [
       "True"
      ]
     },
     "execution_count": 6,
     "metadata": {},
     "output_type": "execute_result"
    }
   ],
   "source": [
    "data = datetime.now()\n",
    "sistema.agendar_consulta(data,\"12345678900\",\"Dentista\",\"78900\",\"Teste Consulta\",\"01234\")"
   ]
  },
  {
   "cell_type": "code",
   "execution_count": 7,
   "metadata": {},
   "outputs": [
    {
     "data": {
      "text/plain": [
       "True"
      ]
     },
     "execution_count": 7,
     "metadata": {},
     "output_type": "execute_result"
    }
   ],
   "source": [
    "sistema.fazer_logout()"
   ]
  },
  {
   "cell_type": "code",
   "execution_count": 9,
   "metadata": {},
   "outputs": [
    {
     "name": "stdout",
     "output_type": "stream",
     "text": [
      "Ação não é permitida.\n"
     ]
    }
   ],
   "source": [
    "resultado_criar_ficha = sistema.criar_ficha(\n",
    "        nome=\"João\",\n",
    "        senha=\"senha123\",\n",
    "        cpf=\"12345678900\",\n",
    "        telefone=\"123456789\",\n",
    "        rg=\"1234567\",\n",
    "        cartaoSus=\"987654321\",\n",
    "        rua=\"Rua A\",\n",
    "        bairro=\"Bairro B\",\n",
    "        cidade=\"Cidade C\",\n",
    "        cep=\"12345678\",\n",
    "        numero=\"10\",\n",
    "        referencia=\"Referencia\",\n",
    "        data_de_nascimento=\"01/01/1990\",\n",
    "        estado_civil=\"Solteiro\",\n",
    "        tipo_sanguineo=\"O+\",\n",
    "        nacionalidade=\"Brasileiro\",\n",
    "        sexo=\"Masculino\",\n",
    "        info_adicionais=\"Informações adicionais, se houver\"\n",
    "    )"
   ]
  },
  {
   "cell_type": "code",
   "execution_count": 10,
   "metadata": {},
   "outputs": [
    {
     "name": "stdout",
     "output_type": "stream",
     "text": [
      "Ação não é permitida.\n"
     ]
    }
   ],
   "source": [
    "resultado = sistema.criar_ficha_atendente(\n",
    "        nome=\"Fulano\",\n",
    "        senha=\"senha123\",\n",
    "        cpf=\"1234\",\n",
    "        telefone=\"123456789\",\n",
    "        rg=\"1234567\",\n",
    "        cartaoSus=\"987654321\",\n",
    "        rua=\"Rua A\",\n",
    "        bairro=\"Bairro B\",\n",
    "        cidade=\"Cidade C\",\n",
    "        cep=\"12345678\",\n",
    "        numero=\"10\",\n",
    "        referencia=\"Referencia\",\n",
    "        data_de_nascimento=\"01/01/1990\",\n",
    "        estado_civil=\"Solteiro\",\n",
    "        tipo_sanguineo=\"O+\",\n",
    "        nacionalidade=\"Brasileiro\",\n",
    "        sexo=\"Masculino\",\n",
    "        info_adicionais=\"Informações adicionais, se houver\"\n",
    "    )"
   ]
  },
  {
   "cell_type": "code",
   "execution_count": 13,
   "metadata": {},
   "outputs": [
    {
     "name": "stdout",
     "output_type": "stream",
     "text": [
      "Ficha de Dentista já existe.\n"
     ]
    }
   ],
   "source": [
    "resultado = sistema.criar_ficha_dentista(\n",
    "        crm=\"CRM\",\n",
    "        estado=\"PB\",\n",
    "        nome=\"Dentista\",\n",
    "        senha=\"senha123\",\n",
    "        cpf=\"78900\",\n",
    "        telefone=\"123456789\",\n",
    "        rg=\"1234567\",\n",
    "        cartaoSus=\"987654321\",\n",
    "        rua=\"Rua A\",\n",
    "        bairro=\"Bairro B\",\n",
    "        cidade=\"Cidade C\",\n",
    "        cep=\"12345678\",\n",
    "        numero=\"10\",\n",
    "        referencia=\"Referencia\",\n",
    "        data_de_nascimento=\"01/01/1990\",\n",
    "        estado_civil=\"Solteiro\",\n",
    "        tipo_sanguineo=\"O+\",\n",
    "        nacionalidade=\"Brasileiro\",\n",
    "        sexo=\"Masculino\",\n",
    "        info_adicionais=\"Informações adicionais, se houver\"\n",
    "    )"
   ]
  }
 ],
 "metadata": {
  "kernelspec": {
   "display_name": "Python 3 (ipykernel)",
   "language": "python",
   "name": "python3"
  },
  "language_info": {
   "codemirror_mode": {
    "name": "ipython",
    "version": 3
   },
   "file_extension": ".py",
   "mimetype": "text/x-python",
   "name": "python",
   "nbconvert_exporter": "python",
   "pygments_lexer": "ipython3",
   "version": "3.9.2"
  }
 },
 "nbformat": 4,
 "nbformat_minor": 5
}
