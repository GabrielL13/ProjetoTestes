{
 "cells": [
  {
   "cell_type": "markdown",
   "id": "660691a3",
   "metadata": {},
   "source": [
    "Teste do Sistema odontológico"
   ]
  },
  {
   "cell_type": "code",
   "execution_count": 1,
   "metadata": {},
   "outputs": [
    {
     "data": {
      "text/plain": [
       "<Response [200]>"
      ]
     },
     "execution_count": 1,
     "metadata": {},
     "output_type": "execute_result"
    }
   ],
   "source": [
    "# Resetar Banco de Dados para os testes\n",
    "import requests\n",
    "r = requests.delete(\"https://projetotestes-459ea-default-rtdb.firebaseio.com/.json\")\n",
    "r.ok"
   ]
  },
  {
   "cell_type": "code",
   "execution_count": 2,
   "metadata": {},
   "outputs": [
    {
     "name": "stdout",
     "output_type": "stream",
     "text": [
      "\u001b[1m============================= test session starts ==============================\u001b[0m\n",
      "platform linux -- Python 3.9.2, pytest-7.4.2, pluggy-1.3.0\n",
      "rootdir: /home/VeronicaLopes/Documentos/ProjetoTestes\n",
      "plugins: ordering-0.6, anyio-3.6.2\n",
      "collected 10 items                                                             \u001b[0m\n",
      "\n",
      "test_sistema_unidades.py \u001b[32m.\u001b[0m\u001b[32m.\u001b[0m\u001b[32m.\u001b[0m\u001b[32m.\u001b[0m\u001b[32m.\u001b[0m\u001b[32m.\u001b[0m\u001b[32m.\u001b[0m\u001b[32m.\u001b[0m\u001b[32m.\u001b[0m\u001b[31mF\u001b[0m\u001b[31m                                      [100%]\u001b[0m\n",
      "\n",
      "=================================== FAILURES ===================================\n",
      "\u001b[31m\u001b[1m_______________ TestSistema.test_visualizar_informacoes_dentista _______________\u001b[0m\n",
      "\n",
      "self = <test_sistema_unidades.TestSistema object at 0x7fe4fc542490>\n",
      "\n",
      "    \u001b[37m@pytest\u001b[39;49;00m.mark.run(order=\u001b[94m10\u001b[39;49;00m)\u001b[90m\u001b[39;49;00m\n",
      "    \u001b[94mdef\u001b[39;49;00m \u001b[92mtest_visualizar_informacoes_dentista\u001b[39;49;00m(\u001b[96mself\u001b[39;49;00m):\u001b[90m\u001b[39;49;00m\n",
      "    \u001b[90m\u001b[39;49;00m\n",
      "        \u001b[90m# CT1 - Visualizar informações dos dentistas cadastrados\u001b[39;49;00m\u001b[90m\u001b[39;49;00m\n",
      "        \u001b[94massert\u001b[39;49;00m \u001b[95mnot\u001b[39;49;00m \u001b[96misinstance\u001b[39;49;00m(\u001b[96mself\u001b[39;49;00m.admin.visualizar_dentistas(),\u001b[96mbool\u001b[39;49;00m)\u001b[90m\u001b[39;49;00m\n",
      "    \u001b[90m\u001b[39;49;00m\n",
      "        \u001b[90m# CT2 - Visualizar informações de um dentista existente\u001b[39;49;00m\u001b[90m\u001b[39;49;00m\n",
      "        \u001b[94massert\u001b[39;49;00m \u001b[95mnot\u001b[39;49;00m \u001b[96misinstance\u001b[39;49;00m(\u001b[96mself\u001b[39;49;00m.admin.visualizar_dentista(cpf=\u001b[33m\"\u001b[39;49;00m\u001b[33mteste\u001b[39;49;00m\u001b[33m\"\u001b[39;49;00m),\u001b[96mbool\u001b[39;49;00m)\u001b[90m\u001b[39;49;00m\n",
      "    \u001b[90m\u001b[39;49;00m\n",
      "        \u001b[90m# CT3 - Tentativa de visualizar dentista inexistente\u001b[39;49;00m\u001b[90m\u001b[39;49;00m\n",
      "        \u001b[94massert\u001b[39;49;00m \u001b[96misinstance\u001b[39;49;00m(\u001b[96mself\u001b[39;49;00m.admin.visualizar_dentista(cpf=\u001b[33m\"\u001b[39;49;00m\u001b[33m-1291839j\u001b[39;49;00m\u001b[33m\"\u001b[39;49;00m),\u001b[96mbool\u001b[39;49;00m)\u001b[90m\u001b[39;49;00m\n",
      "    \u001b[90m\u001b[39;49;00m\n",
      "        \u001b[90m# CT4 - Tentativa de visualizar agenda de dentista existente\u001b[39;49;00m\u001b[90m\u001b[39;49;00m\n",
      "        \u001b[94massert\u001b[39;49;00m \u001b[96mself\u001b[39;49;00m.admin.agendar_consulta(cpf=\u001b[33m\"\u001b[39;49;00m\u001b[33madmin\u001b[39;49;00m\u001b[33m\"\u001b[39;49;00m,data=datetime.now()\u001b[90m\u001b[39;49;00m\n",
      "                                    ,nome_dentista=\u001b[33m\"\u001b[39;49;00m\u001b[33madmin\u001b[39;49;00m\u001b[33m\"\u001b[39;49;00m,cpf_dentista=\u001b[33m\"\u001b[39;49;00m\u001b[33madmin\u001b[39;49;00m\u001b[33m\"\u001b[39;49;00m,descricao=\u001b[33m\"\u001b[39;49;00m\u001b[33mreagentamento\u001b[39;49;00m\u001b[33m\"\u001b[39;49;00m)\u001b[90m\u001b[39;49;00m\n",
      "        \u001b[94massert\u001b[39;49;00m \u001b[96mself\u001b[39;49;00m.admin.agendar_consulta(cpf=\u001b[33m\"\u001b[39;49;00m\u001b[33mteste\u001b[39;49;00m\u001b[33m\"\u001b[39;49;00m,data=datetime.now()\u001b[90m\u001b[39;49;00m\n",
      "                                    ,nome_dentista=\u001b[33m\"\u001b[39;49;00m\u001b[33madmin\u001b[39;49;00m\u001b[33m\"\u001b[39;49;00m,cpf_dentista=\u001b[33m\"\u001b[39;49;00m\u001b[33madmin\u001b[39;49;00m\u001b[33m\"\u001b[39;49;00m,descricao=\u001b[33m\"\u001b[39;49;00m\u001b[33mreagentamento\u001b[39;49;00m\u001b[33m\"\u001b[39;49;00m)\u001b[90m\u001b[39;49;00m\n",
      "        \u001b[94massert\u001b[39;49;00m \u001b[95mnot\u001b[39;49;00m \u001b[96misinstance\u001b[39;49;00m(\u001b[96mself\u001b[39;49;00m.admin.ver_agenda_dentista(cpf=\u001b[33m\"\u001b[39;49;00m\u001b[33madmin\u001b[39;49;00m\u001b[33m\"\u001b[39;49;00m),\u001b[96mbool\u001b[39;49;00m)\u001b[90m\u001b[39;49;00m\n",
      "        \u001b[94massert\u001b[39;49;00m \u001b[95mnot\u001b[39;49;00m \u001b[96misinstance\u001b[39;49;00m(\u001b[96mself\u001b[39;49;00m.dentista.ver_agenda(),\u001b[96mbool\u001b[39;49;00m)\u001b[90m\u001b[39;49;00m\n",
      "        \u001b[94massert\u001b[39;49;00m (\u001b[96mself\u001b[39;49;00m.dentista.ver_agenda() == \u001b[96mself\u001b[39;49;00m.admin.ver_agenda_dentista(cpf=\u001b[33m\"\u001b[39;49;00m\u001b[33madmin\u001b[39;49;00m\u001b[33m\"\u001b[39;49;00m))\u001b[90m\u001b[39;49;00m\n",
      "    \u001b[90m\u001b[39;49;00m\n",
      "        \u001b[90m# CT5 - Tentativa de visualizar agenda de dentista existente mas sem consultas registradas\u001b[39;49;00m\u001b[90m\u001b[39;49;00m\n",
      "        \u001b[96mself\u001b[39;49;00m.dentista.cancelar_consulta(cpf=\u001b[33m\"\u001b[39;49;00m\u001b[33madmin\u001b[39;49;00m\u001b[33m\"\u001b[39;49;00m)\u001b[90m\u001b[39;49;00m\n",
      "        \u001b[96mself\u001b[39;49;00m.dentista.cancelar_consulta(cpf=\u001b[33m\"\u001b[39;49;00m\u001b[33mteste\u001b[39;49;00m\u001b[33m\"\u001b[39;49;00m)\u001b[90m\u001b[39;49;00m\n",
      ">       \u001b[94massert\u001b[39;49;00m  \u001b[96misinstance\u001b[39;49;00m(\u001b[96mself\u001b[39;49;00m.admin.ver_agenda_dentista(),\u001b[96mbool\u001b[39;49;00m)\u001b[90m\u001b[39;49;00m\n",
      "\u001b[1m\u001b[31mE       TypeError: ver_agenda_dentista() missing 1 required positional argument: 'cpf'\u001b[0m\n",
      "\n",
      "\u001b[1m\u001b[31mtest_sistema_unidades.py\u001b[0m:289: TypeError\n",
      "----------------------------- Captured stdout call -----------------------------\n",
      "Dentista não existe.\n",
      "Requisição não encontrada.\n",
      "Requisição não encontrada.\n",
      "A consulta admin foi deletada com sucesso.\n",
      "A consulta teste foi deletada com sucesso.\n",
      "\u001b[36m\u001b[1m=========================== short test summary info ============================\u001b[0m\n",
      "\u001b[31mFAILED\u001b[0m test_sistema_unidades.py::\u001b[1mTestSistema::test_visualizar_informacoes_dentista\u001b[0m - TypeError: ver_agenda_dentista() missing 1 required positional argument: 'cpf'\n",
      "\u001b[31m========================= \u001b[31m\u001b[1m1 failed\u001b[0m, \u001b[32m9 passed\u001b[0m\u001b[31m in 56.21s\u001b[0m\u001b[31m =========================\u001b[0m\n"
     ]
    }
   ],
   "source": [
    "# Executando testes das Unidades Admin, Dentista e Paciente\n",
    "!pytest -k TestSistema test_sistema_unidades.py"
   ]
  },
  {
   "cell_type": "code",
   "execution_count": null,
   "metadata": {},
   "outputs": [],
   "source": []
  }
 ],
 "metadata": {
  "kernelspec": {
   "display_name": "Python 3 (ipykernel)",
   "language": "python",
   "name": "python3"
  },
  "language_info": {
   "codemirror_mode": {
    "name": "ipython",
    "version": 3
   },
   "file_extension": ".py",
   "mimetype": "text/x-python",
   "name": "python",
   "nbconvert_exporter": "python",
   "pygments_lexer": "ipython3",
   "version": "3.9.2"
  }
 },
 "nbformat": 4,
 "nbformat_minor": 5
}
