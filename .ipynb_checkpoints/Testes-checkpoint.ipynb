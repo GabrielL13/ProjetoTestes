{
 "cells": [
  {
   "cell_type": "code",
   "execution_count": 1,
   "id": "6593a036",
   "metadata": {},
   "outputs": [],
   "source": [
    "import unittest\n",
    "from Sistema import Sistema\n",
    "from Admin import Admin\n",
    "from Paciente import Paciente\n",
    "from Dentista import Dentista\n",
    "from datetime import datetime"
   ]
  },
  {
   "cell_type": "markdown",
   "id": "660691a3",
   "metadata": {},
   "source": [
    "Teste do Sistema odontológico"
   ]
  },
  {
   "cell_type": "code",
   "execution_count": 2,
   "id": "f2d6af2b",
   "metadata": {},
   "outputs": [
    {
     "name": "stderr",
     "output_type": "stream",
     "text": [
      "."
     ]
    },
    {
     "name": "stdout",
     "output_type": "stream",
     "text": [
      "Ficha de Paciente já existe.\n",
      "Preencha todos os campos obrigatórios.\n"
     ]
    },
    {
     "name": "stderr",
     "output_type": "stream",
     "text": [
      "\n",
      "----------------------------------------------------------------------\n",
      "Ran 1 test in 2.105s\n",
      "\n",
      "OK\n"
     ]
    },
    {
     "data": {
      "text/plain": [
       "<unittest.main.TestProgram at 0x7ff0fc382e20>"
      ]
     },
     "execution_count": 2,
     "metadata": {},
     "output_type": "execute_result"
    }
   ],
   "source": [
    "class TestSistema(unittest.TestCase):\n",
    "    admin = Admin()\n",
    "\n",
    "    # CNT1 - Cadastro de Paciente (por atendente/admin)\n",
    "    def test_cadastro_paciente(self):\n",
    "        # CT1 - Cadastro de um novo paciente com informações válidas\n",
    "        self.assertTrue(self.admin.criar_ficha(nome=\"Teste\", cpf=\"teste\", senha=\"teste123\",\n",
    "                                               telefone=\"12345678\", rg=\"1234567\", cartaoSus=\"sus123\",\n",
    "                                               rua=\"ruateste\", bairro=\"bairroteste\", cidade=\"cidadeteste\",\n",
    "                                               numero=\"1\", cep=\"cep123\", referencia=\"semref\",\n",
    "                                               data_de_nascimento=datetime.now(), estado_civil=\"estado\",\n",
    "                                               tipo_sanguineo=\"O+\", nacionalidade=\"paisteste\", sexo=\"sexoteste0\",\n",
    "                                               info_adicionais=\"add\"))\n",
    "        \n",
    "        # CT2 - Tentativa de cadastro de um paciente com CPF já existente\n",
    "        self.assertFalse(self.admin.criar_ficha(nome=\"Teste\", cpf=\"teste\", senha=\"teste123\",\n",
    "                                                telefone=\"12345678\", rg=\"1234567\", cartaoSus=\"sus123\",\n",
    "                                                rua=\"ruateste\", bairro=\"bairroteste\", cidade=\"cidadeteste\",\n",
    "                                                numero=\"1\", cep=\"cep123\", referencia=\"semref\",\n",
    "                                                data_de_nascimento=datetime.now(), estado_civil=\"estado\",\n",
    "                                                tipo_sanguineo=\"O+\", nacionalidade=\"paisteste\", sexo=\"sexoteste0\",\n",
    "                                                info_adicionais=\"add\"))\n",
    "        \n",
    "        # CT3 - Tentativa de cadastro de um paciente sem preencher algum campo\n",
    "        self.assertFalse(self.admin.criar_ficha(nome=\"Teste\", cpf=\"-99999999\", senha=\"teste123\",\n",
    "                                                rg=\"1234567\", cartaoSus=\"sus123\", rua=\"ruateste\",\n",
    "                                                bairro=\"bairroteste\", cidade=\"cidadeteste\", numero=\"1\", cep=\"cep123\",\n",
    "                                                referencia=\"semref\", data_de_nascimento=datetime.now(),\n",
    "                                                estado_civil=\"estado\", tipo_sanguineo=\"O+\", nacionalidade=\"paisteste\",\n",
    "                                                sexo=\"sexoteste0\", info_adicionais=\"add\"))\n",
    "    \n",
    "    \n",
    "    # CNT2 - Marcar consulta (por paciente)\n",
    "    def test_manipular_consulta(self):\n",
    "        # CT1 - Marcar uma consulta com informações válidas\n",
    "        admin\n",
    "        # CT2 - Tentativa de marcar consulta sem informar a data\n",
    "        # CT3 - Tentativa de marcar consulta sem autenticação\n",
    "        # CT4 - Solicitar reagendamento ou cancelamento de uma consulta\n",
    "\n",
    "# Execute os testes\n",
    "unittest.main(argv=[''], exit=False)"
   ]
  },
  {
   "cell_type": "markdown",
   "id": "280a0d0b",
   "metadata": {},
   "source": [
    "CNT3 - Cancelar consulta (por dentista)"
   ]
  },
  {
   "cell_type": "code",
   "execution_count": null,
   "id": "b53dfe13",
   "metadata": {},
   "outputs": [],
   "source": [
    "class TestCancelarConsultaDentista(unittest.TestCase):\n",
    "    \n",
    "    def test_cancelar_consulta_existente_sem_solicitacao_paciente(self):\n",
    "        # Implemente o teste CT1 - Cancelar uma consulta existente sem prévia solicitação de cancelamento do paciente\n",
    "        # Verifique se é possível cancelar a consulta com sucesso\n",
    "        \n",
    "    def test_tentativa_cancelar_consulta_inexistente(self):\n",
    "        # Implemente o teste CT2 - Tentativa de cancelar uma consulta inexistente\n",
    "        # Verifique se o sistema trata corretamente o caso de tentar cancelar uma consulta que não existe\n",
    "        \n",
    "    def test_tentativa_cancelar_consulta_sem_autenticacao(self):\n",
    "        # Implemente o teste CT3 - Tentativa de cancelar consulta sem autenticação\n",
    "        # Verifique se o sistema requer autenticação e impede o acesso não autorizado\n",
    "        \n",
    "    def test_cancelar_consulta_existente_com_solicitacao_paciente(self):\n",
    "        # Implemente o teste CT4 - Cancelar uma consulta existente com prévia solicitação de cancelamento do paciente\n",
    "        # Verifique se é possível cancelar a consulta quando o paciente já solicitou o cancelamento"
   ]
  },
  {
   "cell_type": "markdown",
   "id": "efbceb65",
   "metadata": {},
   "source": [
    "CNT4 - Gestão de Senhas (Por atendente)"
   ]
  },
  {
   "cell_type": "code",
   "execution_count": null,
   "id": "89e44eef",
   "metadata": {},
   "outputs": [],
   "source": [
    "class TestGestaoSenhasAtendente(unittest.TestCase):\n",
    "    \n",
    "    def test_gerar_senha_paciente_com_sucesso(self):\n",
    "        # Implemente o teste CT1 - Senha de Paciente gerada com sucesso\n",
    "        # Verifique se é possível gerar uma senha para um paciente\n",
    "        \n",
    "    def test_tentativa_gerar_senha_duplicada(self):\n",
    "        # Implemente o teste CT2 - Tentativa de gerar senha duplicada\n",
    "        # Verifique se o sistema não permite a geração de senhas duplicadas\n",
    "        \n",
    "    def test_atendente_chama_senha_paciente_para_atendimento(self):\n",
    "        # Implemente o teste CT3 - Atendente chama senha de paciente para seu atendimento\n",
    "        # Verifique se o atendente consegue chamar a senha de um paciente para atendimento\n",
    "        \n",
    "    def test_paciente_solicita_nova_senha_ao_atendente(self):\n",
    "        # Implemente o teste CT4 - Paciente solicita nova senha ao atendente\n",
    "        # Verifique se o atendente pode gerar uma nova senha para o paciente que a solicita"
   ]
  },
  {
   "cell_type": "markdown",
   "id": "eea694fe",
   "metadata": {},
   "source": [
    "CNT5 - Verificar avaliação de atendimento (por dentista)"
   ]
  },
  {
   "cell_type": "code",
   "execution_count": null,
   "id": "6c8351fe",
   "metadata": {},
   "outputs": [],
   "source": [
    "class TestVerificarAvaliacaoAtendimentoDentista(unittest.TestCase):\n",
    "    \n",
    "    def test_verificar_avaliacoes_recebidas_com_sucesso(self):\n",
    "        # Implemente o teste CT1 - Verificar avaliações recebidas com sucesso\n",
    "        # Verifique se o dentista consegue visualizar as avaliações recebidas\n",
    "        \n",
    "    def test_tentativa_verificar_avaliacoes_sem_autenticacao(self):\n",
    "        # Implemente o teste CT2 - Tentativa de verificar avaliações sem estar autenticado como dentista\n",
    "        # Verifique se o sistema impede o acesso não autorizado\n",
    "        \n",
    "    def test_verificar_avaliacoes_sem_ter_recebido_nenhuma(self):\n",
    "        # Implemente o teste CT3 - Verificar avaliações sem ter recebido nenhuma\n",
    "        # Verifique se o sistema informa adequadamente quando não há avaliações recebidas\n",
    "        \n",
    "    def test_tentativa_verificar_avaliacoes_de_outro_dentista(self):\n",
    "        # Implemente o teste CT4 - Tentativa de verificar avaliações de outro dentista\n",
    "        # Verifique se o sistema impede o acesso às avaliações de outros dentistas"
   ]
  },
  {
   "cell_type": "markdown",
   "id": "ff37b9be",
   "metadata": {},
   "source": [
    "CNT6 - Visualizar paciente (por atendente, admin ou dentista)"
   ]
  },
  {
   "cell_type": "code",
   "execution_count": null,
   "id": "6739050e",
   "metadata": {},
   "outputs": [],
   "source": [
    "class TestVisualizarPaciente(unittest.TestCase):\n",
    "    \n",
    "    def test_visualizar_informacoes_paciente_existente(self):\n",
    "        # Implemente o teste CT1 - Visualizar informações de um paciente existente\n",
    "        # Verifique se é possível visualizar as informações de um paciente existente\n",
    "        \n",
    "    def test_tentativa_visualizar_paciente_sem_autenticacao(self):\n",
    "        # Implemente o teste CT2 - Tentativa de visualizar paciente sem autenticação\n",
    "        # Verifique se o sistema requer autenticação para visualizar as informações do paciente\n",
    "        \n",
    "    def test_tentativa_visualizar_paciente_inexistente(self):\n",
    "        # Implemente o teste CT3 - Tentativa de visualizar paciente inexistente\n",
    "        # Verifique se o sistema lida corretamente com a tentativa de visualizar um paciente que não existe"
   ]
  },
  {
   "cell_type": "markdown",
   "id": "375a8d96",
   "metadata": {},
   "source": [
    "CNT7 - Efetuar Pagamento (por paciente)"
   ]
  },
  {
   "cell_type": "code",
   "execution_count": null,
   "id": "9137b0fe",
   "metadata": {},
   "outputs": [],
   "source": [
    "class TestEfetuarPagamentoPaciente(unittest.TestCase):\n",
    "    \n",
    "    def test_realizar_pagamento_com_sucesso(self):\n",
    "        # Implemente o teste CT1 - Realizar pagamento com sucesso\n",
    "        # Verifique se é possível efetuar o pagamento com sucesso\n",
    "        \n",
    "    def test_tentativa_realizar_pagamento_sem_valor_suficiente(self):\n",
    "        # Implemente o teste CT2 - Tentativa de realizar pagamento sem ter valor suficiente em conta\n",
    "        # Verifique se o sistema não permite o pagamento se o valor na conta não for suficiente\n",
    "        \n",
    "    def test_tentativa_realizar_pagamento_sem_cartao_credito_valido(self):\n",
    "        # Implemente o teste CT3 - Tentativa de realizar pagamento sem cartão de crédito válido\n",
    "        # Verifique se o sistema exige um cartão de crédito válido para efetuar o pagamento\n",
    "        \n",
    "    def test_realizar_pagamento_com_informacoes_adicionais(self):\n",
    "        # Implemente o teste CT4 - Realizar pagamento com informações adicionais\n",
    "        # Verifique se é possível efetuar o pagamento com informações extras"
   ]
  },
  {
   "cell_type": "markdown",
   "id": "e207b340",
   "metadata": {},
   "source": [
    "CNT8 - Atualizar cadastro (por atendente, dentista ou admin)"
   ]
  },
  {
   "cell_type": "code",
   "execution_count": null,
   "id": "e79774fd",
   "metadata": {},
   "outputs": [],
   "source": [
    "class TestAtualizarCadastro(unittest.TestCase):\n",
    "    \n",
    "    def test_atualizar_cadastro_com_sucesso(self):\n",
    "        # Implemente o teste CT1 - Atualizar cadastro com sucesso\n",
    "        # Verifique se é possível atualizar o cadastro com sucesso\n",
    "        \n",
    "    def test_tentativa_atualizar_cadastro_sem_autenticacao(self):\n",
    "        # Implemente o teste CT2 - Tentativa de atualizar cadastro sem autenticação\n",
    "        # Verifique se o sistema requer autenticação para atualizar o cadastro\n",
    "        \n",
    "    def test_tentativa_atualizar_cadastro_usuario_inexistente(self):\n",
    "        # Implemente o teste CT3 - Tentativa de atualizar cadastro de usuário inexistente\n",
    "        # Verifique se o sistema lida corretamente com a tentativa de atualizar o cadastro de um usuário inexistente\n",
    "        \n",
    "    def test_tentativa_atualizar_cadastro_modificando_informacoes_fixas(self):\n",
    "        # Implemente o teste CT4 - Tentativa de atualizar cadastro modificando informações fixas\n",
    "        # Verifique se o sistema não permite a alteração de informações que não devem ser modificadas, como data de nascimento ou número de documento"
   ]
  },
  {
   "cell_type": "markdown",
   "id": "7342c254",
   "metadata": {},
   "source": [
    "CNT9 - Verificar Agenda (por dentista)"
   ]
  },
  {
   "cell_type": "code",
   "execution_count": null,
   "id": "98276848",
   "metadata": {},
   "outputs": [],
   "source": [
    "class TestVerificarAgendaDentista(unittest.TestCase):\n",
    "    \n",
    "    def test_verificar_agenda_com_consultas_marcadas(self):\n",
    "        # Implemente o teste CT1 - Verificar a agenda em dia com consultas marcadas\n",
    "        # Verifique se o dentista consegue visualizar a agenda com consultas marcadas\n",
    "        \n",
    "    def test_tentativa_verificar_agenda_sem_autenticacao(self):\n",
    "        # Implemente o teste CT2 - Tentativa de verificar agenda sem autenticação\n",
    "        # Verifique se o sistema requer autenticação para visualizar a agenda\n",
    "        \n",
    "    def test_tentativa_verificar_agenda_em_dia_sem_consultas_marcadas(self):\n",
    "        # Implemente o teste CT3 - Tentativa de verificar agenda em dia sem consultas marcadas\n",
    "        # Verifique se o sistema informa corretamente quando não há consultas marcadas para o dia\n",
    "        \n",
    "    def test_verificar_agenda_de_dia_passado(self):\n",
    "        # Implemente o teste CT4 - Verificar agenda de dia já passado\n",
    "        # Verifique se o sistema lida adequadamente com a verificação da agenda de um dia que já passou"
   ]
  },
  {
   "cell_type": "markdown",
   "id": "756fd77a",
   "metadata": {},
   "source": [
    "CNT10 - Anexar/Confirmar pagamento (por admin ou atendente)"
   ]
  },
  {
   "cell_type": "code",
   "execution_count": null,
   "id": "f1157feb",
   "metadata": {},
   "outputs": [],
   "source": [
    "class TestAnexarConfirmarPagamento(unittest.TestCase):\n",
    "    \n",
    "    def test_anexar_confirmar_pagamento_com_sucesso(self):\n",
    "        # Implemente o teste CT1 - Anexar/confirmar pagamento com sucesso\n",
    "        # Verifique se é possível anexar ou confirmar um pagamento com sucesso\n",
    "        \n",
    "    def test_tentativa_anexar_confirmar_pagamento_sem_autenticacao(self):\n",
    "        # Implemente o teste CT2 - Tentativa de anexar/confirmar pagamento sem autenticação\n",
    "        # Verifique se o sistema requer autenticação para anexar ou confirmar um pagamento\n",
    "        \n",
    "    def test_tentativa_anexar_confirmar_pagamento_para_paciente_inexistente(self):\n",
    "        # Implemente o teste CT3 - Tentativa de anexar/confirmar pagamento para paciente inexistente\n",
    "        # Verifique se o sistema lida corretamente com a tentativa de anexar ou confirmar pagamento para um paciente inexistente\n",
    "        \n",
    "    def test_anexar_confirmar_pagamento_com_informacoes_adicionais(self):\n",
    "        # Implemente o teste CT4 - Anexar/confirmar pagamento com informações adicionais\n",
    "        # Verifique se é possível anexar ou confirmar um pagamento com informações extras"
   ]
  }
 ],
 "metadata": {
  "kernelspec": {
   "display_name": "Python 3 (ipykernel)",
   "language": "python",
   "name": "python3"
  },
  "language_info": {
   "codemirror_mode": {
    "name": "ipython",
    "version": 3
   },
   "file_extension": ".py",
   "mimetype": "text/x-python",
   "name": "python",
   "nbconvert_exporter": "python",
   "pygments_lexer": "ipython3",
   "version": "3.9.2"
  }
 },
 "nbformat": 4,
 "nbformat_minor": 5
}
